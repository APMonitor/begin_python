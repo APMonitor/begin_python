{
 "cells": [
  {
   "cell_type": "markdown",
   "metadata": {},
   "source": [
    "# Classes\n",
    "Classes combine code someone else made to create objects. A class, is imported in a package, like ```import time```. Time is a package that has functions. TCLab package has functions created with ```tclab.TCLab()```. Next lesson will show you how to use its functions."
   ]
  },
  {
   "cell_type": "markdown",
   "metadata": {},
   "source": [
    "# Objects\n",
    "Objects are created to represent a class that has usable functions. You use a variable format to create an object, assigned to a name, such as ```lab = ```. This is called a parent to child relationship. Naming an object is called this because the child inherents all the functions that the parent had. The child object is what you use in your code. You can name objects the name that you will remember and that are easy to type. For tclab, we prefer to use ```lab```, but it's not required. "
   ]
  },
  {
   "cell_type": "markdown",
   "metadata": {},
   "source": [
    "## Explanation for Objects\n",
    "```python\n",
    "lab = tclab.TCLab()\n",
    "```\n",
    "\n",
    "The first part of an object is what you are naming it. For the Temperture Control Kit, we usually choose ```lab``` to name our object. For something like your incubator, you could make an object to connect with it, called something like ```tempcontrol```. \n",
    "\n",
    "The second part after ```=```, goes into the downloaded package called ```tclab```. Then it looks for and uses ```TCLab``` to connect with your tclab. \n",
    "\n",
    "The ```.``` makes the program look for a sub-object, and the ```()``` tells python it is a function. This a function with no input arguments, because no value is put in the parentheses. Functions will be taught next lesson. \n",
    "\n",
    "So ```lab``` or whatever you decide to call it, is assigned to the programming already made found in the package:\n",
    "```python\n",
    "tclab.TCLab()```"
   ]
  },
  {
   "cell_type": "markdown",
   "metadata": {},
   "source": [
    "### Try and Except\n",
    "Try and Except methods are simple. The program will attempt to run the code under ```try```, and if it can't it goes to the ```except``` code. This is useful in a number of situations, such as importing packages you may not have installed."
   ]
  },
  {
   "cell_type": "code",
   "execution_count": null,
   "metadata": {},
   "outputs": [],
   "source": [
    "try:\n",
    "    # Attempted code\n",
    "except:\n",
    "    # If try code fails to run"
   ]
  },
  {
   "cell_type": "markdown",
   "metadata": {},
   "source": [
    "### Install Temperature Control Lab\n",
    "This code will first ```try``` and import tclab. If it can't do that for some reason it uses ```except``` and installs the program that will let you use your Temperature Control Kit. Run the program to install TCLab. If installing TCLab is not working for you and the connection test below isn't working, try going [here](https://apmonitor.com/pdc/index.php/Main/ArduinoSetup) for additional instruction.\n",
    "\n",
    "(If you want to install this package just for your user, not with admin privileges, keep the code ```--user``` in lines 6 and 8)"
   ]
  },
  {
   "cell_type": "code",
   "execution_count": 4,
   "metadata": {},
   "outputs": [],
   "source": [
    "# install tclab\n",
    "try:\n",
    "    import tclab\n",
    "except:\n",
    "    # Needed to communicate through usb port\n",
    "    !pip install --user pyserial\n",
    "    # The --user is put in for accounts without admin privileges\n",
    "    !pip install --user tclab \n",
    "    # restart kernel if this doesn't import\n",
    "    import tclab"
   ]
  },
  {
   "cell_type": "markdown",
   "metadata": {},
   "source": [
    "### Connection Test\n",
    "This object is what allows you to connect with the kit, read current temperatures, adjust heaters, or change the LED brightness. In the next lesson we will go over the basics of what this temperture control kit can really do. \n",
    "\n",
    "Plug in your TCLab if it's available. Now try running and the program will create the object from below. Now if tclab package is installed and imported, it should connect, tell you additional information about your TCLab, then disconnect. If it doesn't work, or comes up with an error, go to the file __useful for tclab__ for help.\n",
    "\n",
    "Don't worry if this is confusing, most of it will be explained, next lesson."
   ]
  },
  {
   "cell_type": "code",
   "execution_count": 1,
   "metadata": {},
   "outputs": [
    {
     "name": "stdout",
     "output_type": "stream",
     "text": [
      "TCLab version 0.4.9\n",
      "Could not connect at high speed, but succeeded at low speed.\n",
      "This may be due to an old TCLab firmware.\n",
      "New Arduino TCLab firmware available at:\n",
      "https://github.com/jckantor/TCLab-sketch\n",
      "NHduino connected on port COM8 at 9600 baud.\n",
      "TCLab Firmware Version 1.01.\n",
      "TCLab disconnected successfully.\n"
     ]
    }
   ],
   "source": [
    "import tclab        # Imported Package\n",
    "lab = tclab.TCLab() # Object that connects with the kit\n",
    "lab.close()         # Disconnects with the Lab"
   ]
  },
  {
   "cell_type": "markdown",
   "metadata": {},
   "source": [
    "## Turtle Package\n",
    "Turtle package will help you learn about objects. Read the comments for explanations of the code. If the window isn't closing, try restarting the kernel by pressing 0 twice."
   ]
  },
  {
   "cell_type": "code",
   "execution_count": 1,
   "metadata": {},
   "outputs": [],
   "source": [
    "import turtle # Needed for the turtle package\n",
    "\n",
    "whateverScreen = turtle.Screen() # This creates a screen, the variable can be whatever you want it to be\n",
    "whateverTurtle = turtle.Turtle() # This creates a turtle, the variable can be whatever you want it to be\n",
    "\n",
    "whateverScreen.exitonclick() # Closes turtle window when clicked"
   ]
  },
  {
   "cell_type": "markdown",
   "metadata": {},
   "source": [
    "As you can see, a seperate window opens (made with the screen object) that has a arrow on it (made with the turtle object). Try naming your screen and your turtle something you want. Now that we can make our objects, we need to do something with them. \n",
    "\n",
    "**Here are some simple turtle functions:**\n",
    "\n",
    "Moving\n",
    "```python\n",
    "yourTurtle.forward(number) # Moves turtle forward whatever the number is\n",
    "yourTurtle.backard(number) # Moves turtle backward whatever the number is\n",
    "```\n",
    "\n",
    "Turning\n",
    "```python\n",
    "yourTurtle.right(number) # Turns turtle right whatever the number is\n",
    "yourTurtle.left(number) # Turns turtle left whatever the number is\n",
    "```\n",
    "\n",
    "**And a screen function:**\n",
    "```python\n",
    "yourScreen.exitonclick() # Closes screen if you click it\n",
    "```\n",
    "\n",
    "Go to the file __basic python knowledge__ if you want more turtle functions. Get more practice by running this program and changing it to your liking. You may have to restart the Kernel everytime you run this."
   ]
  },
  {
   "cell_type": "code",
   "execution_count": 1,
   "metadata": {},
   "outputs": [],
   "source": [
    "import turtle # Needed for the turtle package\n",
    "\n",
    "nameYourScreen = turtle.Screen() # This creates a screen, the variable can be whatever you want it to be\n",
    "nameYourTurtle = turtle.Turtle() # This creates a turtle, the variable can be whatever you want it to be\n",
    "\n",
    "nameYourTurtle.right(40) # Turns turtle right whatever the number is\n",
    "nameYourTurtle.forward(150) # Moves turtle forward whatever the number is\n",
    "\n",
    "nameYourScreen.exitonclick() # Closes screen if you click it"
   ]
  },
  {
   "cell_type": "markdown",
   "metadata": {},
   "source": [
    "## Activity\n",
    "Make a turtle, and a background, both named whatever you want. Then make a square that's at least 100 pixels long for each side length. Make sure you have ```exitonclick()``` at the end to stop the program when it's done. You may have to restart the Kernel everytime you run this."
   ]
  },
  {
   "cell_type": "code",
   "execution_count": 2,
   "metadata": {},
   "outputs": [],
   "source": [
    "import turtle"
   ]
  }
 ],
 "metadata": {
  "kernelspec": {
   "display_name": "Python 3",
   "language": "python",
   "name": "python3"
  },
  "language_info": {
   "codemirror_mode": {
    "name": "ipython",
    "version": 3
   },
   "file_extension": ".py",
   "mimetype": "text/x-python",
   "name": "python",
   "nbconvert_exporter": "python",
   "pygments_lexer": "ipython3",
   "version": "3.7.3"
  }
 },
 "nbformat": 4,
 "nbformat_minor": 2
}
