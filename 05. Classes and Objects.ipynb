{
 "cells": [
  {
   "attachments": {},
   "cell_type": "markdown",
   "metadata": {},
   "source": [
    "## 5. Classes and Objects\n",
    "\n",
    "![list](https://apmonitor.com/che263/uploads/Begin_Python/list.png)\n",
    "\n",
    "Classes are collections of objects and functions. Many Python packages such as `time`, `tclab`, `numpy`, `scipy`, `gekko`, and others are distributed as `classes`. A class is imported with the `import` statement such as ```import time```.\n",
    "\n",
    "[![Classes and Objects](http://img.youtube.com/vi/-rvIRWf7eGc/0.jpg)](https://www.youtube.com/watch?v=-rvIRWf7eGc&list=PLLBUgWXdTBDi3J05aMVG1knUpqRhkbc46 \"Classes and Objects\")\n",
    "\n",
    "Time is a package that has timing functions that we will use to pause the program for a specified amount of time. TCLab package has functions created with ```tclab.TCLab()```. The next lesson shows how to use the `tclab` functions."
   ]
  },
  {
   "attachments": {},
   "cell_type": "markdown",
   "metadata": {},
   "source": [
    "### Objects\n",
    "\n",
    "![parent_child](https://apmonitor.com/che263/uploads/Begin_Python/parent_child.png)\n",
    "\n",
    "Variables such as `int`, `float`, and `str` types are objects. Objects may also be created from a class template to create a new custom variable. You use a variable assignment to create an object, assigned to a name, such as ```lab = tclab.TCLab()```. This is called a parent (`tclab.TCLab()`) to child (`lab`) relationship because `lab` is created from the class `tclab`. The child object `lab` inherents all the functions of the parent. The child object is modified and customized in your code. You can give objects a name that you will remember and that are easy to type. For `tclab`, we prefer to use ```lab```, but it can be a different name. "
   ]
  },
  {
   "cell_type": "markdown",
   "metadata": {},
   "source": [
    "#### Explanation of Objects\n",
    "```python\n",
    "lab = tclab.TCLab()\n",
    "```\n",
    "\n",
    "The first part of the expression is the child object name. For the Temperature Control Lab, we often use ```lab``` to as the name of our object. For something like your incubator, you could make an object to connect with it, called something like ```incubator```. \n",
    "\n",
    "The second part after ```=```, opens the installed package called ```tclab```. Then it looks for and uses ```TCLab``` to connect with your tclab. \n",
    "\n",
    "The ```.``` makes the program look for a sub-object, and the ```()``` tells python it is a function. This a function with no input arguments, because no value is put in the parentheses. Functions will be taught next lesson. \n",
    "\n",
    "So ```lab``` or whatever you decide to call it, is assigned to the programming already made found in the package:\n",
    "```python\n",
    "tclab.TCLab()```"
   ]
  },
  {
   "attachments": {},
   "cell_type": "markdown",
   "metadata": {},
   "source": [
    "### Try and Except\n",
    "\n",
    "![idea](https://apmonitor.com/che263/uploads/Begin_Python/idea.png)\n",
    "\n",
    "`Try` and `Except` methods can catch program errors. The program attempts to run the code under ```try```, and if it can't it runs the ```except``` section of the code. This is useful in a number of situations, such as importing packages you may not have installed and printing a message that something is wrong."
   ]
  },
  {
   "cell_type": "code",
   "execution_count": null,
   "metadata": {},
   "outputs": [],
   "source": [
    "try:\n",
    "    print('Temperature = ' + 30)\n",
    "except:\n",
    "    print('There is an error')"
   ]
  },
  {
   "cell_type": "markdown",
   "metadata": {},
   "source": [
    "#### Install Temperature Control Lab\n",
    "\n",
    "This code will first ```try``` and import tclab. If it can't do that for some reason it uses ```except``` and installs the program that will let you use your Temperature Control Kit. Run the program to install TCLab. If installing TCLab is not working for you and the connection test below isn't working, try going [here](https://apmonitor.com/pdc/index.php/Main/ArduinoSetup) for additional instructions. If you want to install this package just for your user, not with admin privileges, keep the code ```--user``` in lines 6 and 8."
   ]
  },
  {
   "cell_type": "code",
   "execution_count": null,
   "metadata": {},
   "outputs": [],
   "source": [
    "# install tclab\n",
    "try:\n",
    "    import tclab\n",
    "except:\n",
    "    # Needed to communicate through usb port\n",
    "    !pip install --user pyserial\n",
    "    # The --user is put in for accounts without admin privileges\n",
    "    !pip install --user tclab \n",
    "    # restart kernel if this doesn't import\n",
    "    import tclab"
   ]
  },
  {
   "cell_type": "markdown",
   "metadata": {},
   "source": [
    "#### Connection Test\n",
    "\n",
    "This object is what allows you to connect with the kit, read current temperatures, adjust heaters, or change the LED brightness. In the next lesson we will go over the basics of what this temperature control kit can really do. \n",
    "\n",
    "Plug in your TCLab if it's available. Now try running and the program will create the object from below. Now if tclab package is installed and imported, it should connect, tell you additional information about your TCLab, then disconnect. If it doesn't work, or comes up with an error, go to the file __TCLab Help__.\n",
    "\n",
    "Don't worry if this is confusing, most of it will be explained in the next lesson."
   ]
  },
  {
   "cell_type": "code",
   "execution_count": null,
   "metadata": {},
   "outputs": [],
   "source": [
    "import tclab        # Imported Package\n",
    "lab = tclab.TCLab() # Object that connects with the kit\n",
    "lab.close()         # Disconnects with the Lab"
   ]
  },
  {
   "attachments": {},
   "cell_type": "markdown",
   "metadata": {},
   "source": [
    "### Activity\n",
    "\n",
    "![expert](https://apmonitor.com/che263/uploads/Begin_Python/expert.png)\n",
    "\n",
    "Connect the blue USB cable and plug in the white power cable to the power adapter. Run the TCLab exercise below that imports and tests the `TCLab` functions. Modify the name of the object from `lab` to `incubator` and add comments to the code. All these functions are covered in depth in lesson `6: Functions`. Don't worry if you don't understand each step of the program yet. Your task is to only change the name of the child object from `lab` to `incubator` and add comments such as `# this is a comment` to the code on the purpose of each section.\n",
    "\n",
    "![connections](https://apmonitor.com/che263/uploads/Begin_Python/connections.png)\n",
    "\n",
    "**TCLab Function Help**\n",
    "\n",
    "***Connect/Disconnect:*** ```lab = tclab.TCLab()``` Connect and create new lab object, ```lab.close()``` disconnects lab.\n",
    "\n",
    "***LED:*** ```lab.LED()``` Percentage of output light for __Hot__ Light.\n",
    "\n",
    "***Heaters:*** ```lab.Q1()``` and ```lab.Q2()``` Percentage of power to heaters (0-100).\n",
    "\n",
    "***Temperatures:*** ```lab.T1``` and ```lab.T2``` Value of current heater temperatures."
   ]
  },
  {
   "cell_type": "code",
   "execution_count": null,
   "metadata": {},
   "outputs": [],
   "source": [
    "import tclab\n",
    "import time\n",
    "\n",
    "lab = tclab.TCLab()\n",
    "\n",
    "print('Turn on heaters and LED for 20 seconds')\n",
    "lab.Q1(50)\n",
    "lab.Q2(50)\n",
    "lab.LED(50)\n",
    "\n",
    "for i in range(21):\n",
    "    print('Time:',i,'T1:',lab.T1,'T2:',lab.T2)\n",
    "    time.sleep(1)\n",
    "    \n",
    "lab.Q1(0); lab.Q2(0); lab.LED(0)\n",
    "lab.close()"
   ]
  }
 ],
 "metadata": {
  "kernelspec": {
   "display_name": "Python 3",
   "language": "python",
   "name": "python3"
  },
  "language_info": {
   "codemirror_mode": {
    "name": "ipython",
    "version": 3
   },
   "file_extension": ".py",
   "mimetype": "text/x-python",
   "name": "python",
   "nbconvert_exporter": "python",
   "pygments_lexer": "ipython3",
   "version": "3.7.5"
  }
 },
 "nbformat": 4,
 "nbformat_minor": 2
}
