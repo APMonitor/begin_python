{
 "cells": [
  {
   "attachments": {},
   "cell_type": "markdown",
   "metadata": {},
   "source": [
    "## 9. ```if``` Statements\n",
    "\n",
    "![list](https://apmonitor.com/che263/uploads/Begin_Python/list.png)\n",
    "\n",
    "If and else statements tell the computer what to do based on a `True` condition.\n",
    "\n",
    "[![Conditionals: if](http://img.youtube.com/vi/aNB2MQecPNk/0.jpg)](https://www.youtube.com/watch?v=aNB2MQecPNk&list=PLLBUgWXdTBDi3J05aMVG1knUpqRhkbc46 \"Conditionals: if\")\n",
    "\n",
    "This could be used for the temperature of the egg by telling the heaters to turn on, if the egg is too cold.\n",
    "\n",
    "![hatch](https://apmonitor.com/che263/uploads/Begin_Python/hatch.png)\n",
    "\n",
    "### ```if```\n",
    "```if``` is a certain condition, in this case ```if``` the number is greater than 21, it will print something. Practice using ```if``` by running the code and putting in a value _more_ than 21."
   ]
  },
  {
   "cell_type": "code",
   "execution_count": null,
   "metadata": {},
   "outputs": [],
   "source": [
    "days = int(input(\"Enter how long the egg has been in the incubator \"))\n",
    "\n",
    "if days < 21: # Print if days is less than 21 days\n",
    "    print(\"The chick is still developing\")"
   ]
  },
  {
   "cell_type": "markdown",
   "metadata": {},
   "source": [
    "### ```else```\n",
    "Else statements will execute code if no ```if``` statements are executed. Check your understanding by running the code and putting in a value _less_ than 21."
   ]
  },
  {
   "cell_type": "code",
   "execution_count": null,
   "metadata": {},
   "outputs": [],
   "source": [
    "days = int(input(\"Enter the days \"))\n",
    "\n",
    "if days > 21:\n",
    "    print(\"Chick should have hatched out of egg\")   \n",
    "\n",
    "else:\n",
    "    print(\"The chick is still developing\")"
   ]
  },
  {
   "cell_type": "markdown",
   "metadata": {},
   "source": [
    "**Make your own `if` statement**\n",
    "\n",
    "Practice `if` statements by making your own `if` and `else` statement using user input, with your own idea. Make sure it prints something when it is done."
   ]
  },
  {
   "cell_type": "code",
   "execution_count": null,
   "metadata": {},
   "outputs": [],
   "source": []
  },
  {
   "cell_type": "markdown",
   "metadata": {},
   "source": [
    "## elif\n",
    "```elif```, or else if, statements are a continued if statement. When the first if doesn't work, it will go down to the next ```elif``` and so on. You can have as many ```elif``` statements as you need. Check your understanding by using the right input value to get ```elif``` statement to run."
   ]
  },
  {
   "cell_type": "code",
   "execution_count": null,
   "metadata": {},
   "outputs": [],
   "source": [
    "days = int(input('Enter days '))\n",
    "\n",
    "if days > 21:\n",
    "    print('Chick should have hatched out of egg')\n",
    "    \n",
    "elif days > 18:\n",
    "    print('Chick should hatch soon')\n",
    "\n",
    "else: # Executes only when everything else doesn't work\n",
    "    print('The chick is still developing')"
   ]
  },
  {
   "cell_type": "markdown",
   "metadata": {},
   "source": [
    "You can also have an ```if``` statement inside another ```if``` statement. You can also use the __comparative__ statements from the _Python Basic Knowledge_. These include things like ```and```, ```or```, and lots more. Go to that file if you want to see common ones and what they do. Practice modifying the code to what you like and add other ```if``` statements for the missing days."
   ]
  },
  {
   "cell_type": "code",
   "execution_count": null,
   "metadata": {},
   "outputs": [],
   "source": [
    "x = int(input(\"How long has the egg been in the incubator? \"))\n",
    "\n",
    "if x < 21 and x > 18:\n",
    "    print('Chick should hatch soon')\n",
    "\n",
    "elif x >= 21:\n",
    "    if x > 25:\n",
    "        print(\"Chick probably won't hatch\")\n",
    "    else:\n",
    "        print('Chick should have hatched out of egg')\n",
    "\n",
    "else:\n",
    "    print('The chick is still developing')"
   ]
  },
  {
   "attachments": {},
   "cell_type": "markdown",
   "metadata": {},
   "source": [
    "### Activity\n",
    "\n",
    "![expert](https://apmonitor.com/che263/uploads/Begin_Python/expert.png)\n",
    "\n",
    "Use ```if``` and ```elif``` statements to create a calculator using basic operators. Have the user input two values to be operated on. Have an option to use addition, subtraction, multiplication, and division on those two numbers. Make sure you print the finished answer. "
   ]
  },
  {
   "cell_type": "code",
   "execution_count": null,
   "metadata": {},
   "outputs": [],
   "source": [
    "x = float(input(\"Enter your first value: \"))\n",
    "y = float(input(\"Enter your second value: \"))"
   ]
  },
  {
   "cell_type": "markdown",
   "metadata": {},
   "source": [
    "Use ```if``` statements in a ```while``` loop. Create code that turns on the __LED__ when the temperature goes above 30°C, and disconnects the kit and turns off the __LED__ when the temperature goes above 35°C, and output the temperature every time the program loops. Set the heater powers with user ```input```. "
   ]
  },
  {
   "cell_type": "code",
   "execution_count": null,
   "metadata": {},
   "outputs": [],
   "source": [
    "import tclab\n",
    "lab = tclab.TCLab()\n",
    "\n",
    "#while temp < 35\n",
    "    #if temp < 30\n",
    "\n",
    "lab.close()"
   ]
  },
  {
   "cell_type": "markdown",
   "metadata": {},
   "source": [
    "Make a guessing game that makes a random LED percent and the user has to type inputs to guess it. Make the program say higher or lower depending on the guess. When the guess is correct, flash the LED for a few seconds and disconnect.\n",
    "\n",
    "You can use ```while``` loops, ```for``` loops, ```if``` and ```else``` statements, ```input```, ```print```. Use any combination to create the program."
   ]
  },
  {
   "cell_type": "code",
   "execution_count": null,
   "metadata": {},
   "outputs": [],
   "source": [
    "import random # You need this for the random LED percent\n",
    "\n",
    "randomLED = random.randint(1,101) # This makes a random value between 1 and 100\n",
    "\n",
    "import tclab\n",
    "import time\n"
   ]
  }
 ],
 "metadata": {
  "kernelspec": {
   "display_name": "Python 3",
   "language": "python",
   "name": "python3"
  },
  "language_info": {
   "codemirror_mode": {
    "name": "ipython",
    "version": 3
   },
   "file_extension": ".py",
   "mimetype": "text/x-python",
   "name": "python",
   "nbconvert_exporter": "python",
   "pygments_lexer": "ipython3",
   "version": "3.7.5"
  }
 },
 "nbformat": 4,
 "nbformat_minor": 2
}
