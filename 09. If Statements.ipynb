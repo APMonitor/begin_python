{
 "cells": [
  {
   "cell_type": "markdown",
   "metadata": {},
   "source": [
    "# ```If``` Statements\n",
    "If and else statements tell the computer what to do based on the circumstances. This could be used for the temperature of the egg by telling the heaters to turn on, if the egg is too cold.\n",
    "\n",
    "## ```If```\n",
    "```If``` is a certain condition, in this case ```if``` the number is greater than 16, it will print something. Try running the code and putting in a value _more_ than 16."
   ]
  },
  {
   "cell_type": "code",
   "execution_count": 2,
   "metadata": {},
   "outputs": [
    {
     "name": "stdout",
     "output_type": "stream",
     "text": [
      "Enter an age 30\n",
      "You can go on this ride\n"
     ]
    }
   ],
   "source": [
    "age = int(input(\"Enter an age \")) # Asks person to type in a number that will be assigned to x\n",
    "\n",
    "if age > 16: # Executes code if age is greater than 16\n",
    "    print(\"You can go on this ride\")"
   ]
  },
  {
   "cell_type": "markdown",
   "metadata": {},
   "source": [
    "## ```Else```\n",
    "Else statements will execute code if no ```if``` statements are executed. Try running the code and putting in a value _less_ than 16."
   ]
  },
  {
   "cell_type": "code",
   "execution_count": 1,
   "metadata": {},
   "outputs": [
    {
     "name": "stdout",
     "output_type": "stream",
     "text": [
      "Enter an age 4\n",
      "Nope not old enough\n"
     ]
    }
   ],
   "source": [
    "age = int(input(\"Enter an age \")) # Asks person to type in a number that will be assigned to x\n",
    "\n",
    "if age > 16: # Executes code if age is greater than 16\n",
    "    print(\"You can go on this ride\")   \n",
    "\n",
    "else: # Executes only when the first if doesn't go\n",
    "    print(\"Nope not old enough\")"
   ]
  },
  {
   "cell_type": "markdown",
   "metadata": {},
   "source": [
    "### Make your own\n",
    "Try making your own if and else statement using user input, with your own idea. Make sure it prints something when it's done."
   ]
  },
  {
   "cell_type": "code",
   "execution_count": null,
   "metadata": {},
   "outputs": [],
   "source": []
  },
  {
   "cell_type": "markdown",
   "metadata": {},
   "source": [
    "## Elif\n",
    "```Elif```, or else if, statements are a continued if statement. When the first if doesn't work, it will go down to the next ```elif``` and so on. You can have as many ```elif``` statements as you need. Try using the right value to get ```elif``` statement to run."
   ]
  },
  {
   "cell_type": "code",
   "execution_count": 1,
   "metadata": {},
   "outputs": [
    {
     "name": "stdout",
     "output_type": "stream",
     "text": [
      "Enter an age 45\n",
      "You can go on this ride\n"
     ]
    }
   ],
   "source": [
    "age = int(input('Enter an age ')) # Asks person to type in a number that will be assigned to x\n",
    "\n",
    "if age > 16: # Executes code if age is greater than 16\n",
    "    print(\"You can go on this ride\")\n",
    "    \n",
    "elif age > 12: # Executes when first doesn't work and age is greater than 14\n",
    "    print('You can ride with an adult')\n",
    "\n",
    "else: # Executes only when everything else doesn't work\n",
    "    print(\"Nope not old enough\")"
   ]
  },
  {
   "cell_type": "markdown",
   "metadata": {},
   "source": [
    " You can also have an ```if``` statement inside another ```if``` statement. You can also use the __comparative__ statements from the _Python Basic Equations (Cheat Sheet)_. These include things like ```and```, ```or```, and lots more. Go to that file if you want to see common ones and what they do.\n",
    " \n",
    " Try modifying the code to what you like and add other ```if``` statements for the missing ages."
   ]
  },
  {
   "cell_type": "code",
   "execution_count": null,
   "metadata": {},
   "outputs": [],
   "source": [
    "x = int(input(\"What's your age \"))\n",
    "\n",
    "if x < 20 and x > 12: # Uses comparative statement, must be true for both statements to execute code\n",
    "    print(\"You're just a teen\")\n",
    "\n",
    "elif x >= 50:\n",
    "    if x > 100:\n",
    "        print(\"You're REALLY old\")\n",
    "    else:\n",
    "        print(\"That's old\")\n",
    "\n",
    "else:\n",
    "    print(\"Unknown Age Group\")"
   ]
  },
  {
   "cell_type": "markdown",
   "metadata": {},
   "source": [
    "## Activity\n",
    "Using ```if``` statements and a ```while``` or ```for``` loop, create code that turns on the __Hot__ LED when the temperture goes above 30 degC, and disconnects the kit when it goes above 35 degC, and also output the tempertures during the process. \n",
    "\n",
    "Set the heater powers with user ```input```. "
   ]
  },
  {
   "cell_type": "code",
   "execution_count": 2,
   "metadata": {},
   "outputs": [
    {
     "name": "stdout",
     "output_type": "stream",
     "text": [
      "TCLab version 0.4.9\n",
      "Could not connect at high speed, but succeeded at low speed.\n",
      "This may be due to an old TCLab firmware.\n",
      "New Arduino TCLab firmware available at:\n",
      "https://github.com/jckantor/TCLab-sketch\n",
      "NHduino connected on port COM6 at 9600 baud.\n",
      "TCLab Firmware Version 1.01.\n",
      "TCLab disconnected successfully.\n"
     ]
    }
   ],
   "source": [
    "import tclab\n",
    "lab = tclab.TCLab()\n",
    "\n",
    "#while temp < 35\n",
    "    #if temp < 30\n",
    "\n",
    "lab.close()"
   ]
  }
 ],
 "metadata": {
  "kernelspec": {
   "display_name": "Python 3",
   "language": "python",
   "name": "python3"
  },
  "language_info": {
   "codemirror_mode": {
    "name": "ipython",
    "version": 3
   },
   "file_extension": ".py",
   "mimetype": "text/x-python",
   "name": "python",
   "nbconvert_exporter": "python",
   "pygments_lexer": "ipython3",
   "version": "3.7.3"
  }
 },
 "nbformat": 4,
 "nbformat_minor": 2
}
