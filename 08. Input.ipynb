{
 "cells": [
  {
   "cell_type": "markdown",
   "metadata": {},
   "source": [
    "## 8. Input\n",
    "\n",
    "![list](https://apmonitor.com/che263/uploads/Begin_Python/list.png)\n",
    "\n",
    "Input simply requests information from the person using the computer. By default the input value is stored as a __string__ so if you're doing a math equation you need to turn it into an __integer__ or __float__. In an egg temperature controller, certain types of eggs may require a different input and you could put that in your code to change the desired temperature. You could also use `input` to manually change power to the heaters.\n",
    "\n",
    "[![Input](https://apmonitor.com/che263/uploads/Begin_Python/BeginPython08.png)](https://www.youtube.com/watch?v=63P8tLh-j5o&list=PLLBUgWXdTBDi3J05aMVG1knUpqRhkbc46 \"Input\")\n",
    "\n",
    "If you run the code below, it asks you for a number, then comes up as an error. You need to turn ```eggs``` __variable__ into an __int__. \n",
    "\n",
    "Use ```int()``` and ```str()``` to change types.\n",
    "(Reference the bottom of the **variables lesson**, if you get stuck)\n",
    "\n",
    "![incubator](https://apmonitor.com/che263/uploads/Begin_Python/incubator.png)"
   ]
  },
  {
   "cell_type": "code",
   "execution_count": null,
   "metadata": {},
   "outputs": [],
   "source": [
    "eggs = input(\"How many eggs do you have? \")\n",
    "\n",
    "# Change eggs into an integer\n",
    "\n",
    "eggs = eggs - 2\n",
    "\n",
    "print(\"Your hatchlings are \" + (eggs) + ' because two are still developing') # Change eggs back to a string"
   ]
  },
  {
   "cell_type": "markdown",
   "metadata": {},
   "source": [
    "You can also make the input change into an __int__ on the same line as the input."
   ]
  },
  {
   "cell_type": "code",
   "execution_count": null,
   "metadata": {
    "scrolled": true
   },
   "outputs": [],
   "source": [
    "number = int(input('Enter a number: '))\n",
    "\n",
    "print(number + 5)"
   ]
  },
  {
   "cell_type": "markdown",
   "metadata": {},
   "source": [
    "### Activity\n",
    "\n",
    "![expert](https://apmonitor.com/che263/uploads/Begin_Python/expert.png)\n",
    "\n",
    "Make a function that uses `input` for two values. The function should take two values, add the second number to the first number 20 times, then return the new value. Make sure to use a ```for``` loop in your function. Go back to the lesson on **Loops** or **Functions** if you get stuck."
   ]
  },
  {
   "cell_type": "code",
   "execution_count": null,
   "metadata": {},
   "outputs": [],
   "source": [
    "# Define a function\n",
    "    # Use a for loop\n",
    "\n",
    "print() # Call the function"
   ]
  },
  {
   "cell_type": "markdown",
   "metadata": {},
   "source": [
    "Use a ```while``` loop to keep asking the user for input for the __Hot__ light power percentage. Make the code so if the entered value is 0, the program stops.\n",
    "\n",
    "(This is similar to something used in a real incubator, you could keep turning it to different temperatures, or turn off the system completely)"
   ]
  },
  {
   "cell_type": "code",
   "execution_count": null,
   "metadata": {},
   "outputs": [],
   "source": [
    "import tclab\n"
   ]
  }
 ],
 "metadata": {
  "kernelspec": {
   "display_name": "Python 3",
   "language": "python",
   "name": "python3"
  },
  "language_info": {
   "codemirror_mode": {
    "name": "ipython",
    "version": 3
   },
   "file_extension": ".py",
   "mimetype": "text/x-python",
   "name": "python",
   "nbconvert_exporter": "python",
   "pygments_lexer": "ipython3",
   "version": "3.7.5"
  }
 },
 "nbformat": 4,
 "nbformat_minor": 2
}
