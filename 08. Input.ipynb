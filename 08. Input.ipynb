{
 "cells": [
  {
   "cell_type": "markdown",
   "metadata": {},
   "source": [
    "# Input\n",
    "Input simply asks the person using the computer to enter a value. By default they will be stored as a __string__ so if you're doing a math equation you need to turn them into an __integer__. In a egg temperature controller, certain days may require a different input and you could put that in your code to change the wanted temperature. You could even use input to manually change power to the heaters.\n",
    "\n",
    "If you run the code below, it asks you for a number, then comes up as an error. You need to turn ```money``` __variable__ into a __integer__. \n",
    "\n",
    "Use ```int``` and ```str``` to change types.\n",
    "(Reference the bottom of the **variables lesson**, if you get stuck)"
   ]
  },
  {
   "cell_type": "code",
   "execution_count": null,
   "metadata": {},
   "outputs": [],
   "source": [
    "money = input(\"How much money do you have: \")\n",
    "\n",
    "# Change money into an integer\n",
    "\n",
    "money = money - 15.39\n",
    "\n",
    "print(\"Your change is \" + (money) + ' dollars') # Change money back to a string"
   ]
  },
  {
   "cell_type": "markdown",
   "metadata": {},
   "source": [
    "You can also make the input change into an __integer__ straight out of the input."
   ]
  },
  {
   "cell_type": "code",
   "execution_count": null,
   "metadata": {
    "scrolled": true
   },
   "outputs": [],
   "source": [
    "number = int(input('Enter a number: '))\n",
    "\n",
    "print(number + 5)"
   ]
  },
  {
   "cell_type": "markdown",
   "metadata": {},
   "source": [
    "## Activity\n",
    "Make a function that uses user input for two values. The function should take two values, add the second number to the first number 20 times, then return the new value. \n",
    "\n",
    "Make sure to use a ```for``` loop in your function. Go back to the lesson on **Functions** if you get stuck."
   ]
  },
  {
   "cell_type": "code",
   "execution_count": 1,
   "metadata": {},
   "outputs": [
    {
     "name": "stdout",
     "output_type": "stream",
     "text": [
      "\n"
     ]
    }
   ],
   "source": [
    "# Define a function\n",
    "    # Use a for loop\n",
    "\n",
    "print() # Call the function"
   ]
  },
  {
   "cell_type": "markdown",
   "metadata": {},
   "source": [
    "Use a ```while``` loop to keep asking the user for input for the __Hot__ light power percentage. Make the code so if the entered value is 0, the program stops.\n",
    "\n",
    "(This is similar to something used in a real incubator, you could keep turning it to different temperatures, or turn off the system completely)"
   ]
  },
  {
   "cell_type": "code",
   "execution_count": null,
   "metadata": {},
   "outputs": [],
   "source": [
    "import tclab\n"
   ]
  }
 ],
 "metadata": {
  "kernelspec": {
   "display_name": "Python 3",
   "language": "python",
   "name": "python3"
  },
  "language_info": {
   "codemirror_mode": {
    "name": "ipython",
    "version": 3
   },
   "file_extension": ".py",
   "mimetype": "text/x-python",
   "name": "python",
   "nbconvert_exporter": "python",
   "pygments_lexer": "ipython3",
   "version": "3.7.3"
  }
 },
 "nbformat": 4,
 "nbformat_minor": 2
}
