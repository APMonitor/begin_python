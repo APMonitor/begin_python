{
 "cells": [
  {
   "cell_type": "markdown",
   "metadata": {},
   "source": [
    "# Input\n",
    "Input simply asks the person using the computer to enter a value. By default they will be stored as a __string__ so if you're doing a math equation you need to turn them into an __interger__. If you run the code below, it asks you for a number, then comes up as an error. You need to turn ```money``` __variable__ into a __interger__. \n",
    "\n",
    "(Reference the bottom of variables lesson, if you're stuck)"
   ]
  },
  {
   "cell_type": "code",
   "execution_count": 4,
   "metadata": {},
   "outputs": [
    {
     "name": "stdout",
     "output_type": "stream",
     "text": [
      "How much money do you have: 40\n",
      "After buying you have 20 dollars left\n"
     ]
    }
   ],
   "source": [
    "money = input(\"How much money do you have: \")\n",
    "\n",
    "# Change money into an interger\n",
    "\n",
    "money = money - 20\n",
    "\n",
    "print(\"After spending you have \" + (money) + ' dollars left') # Change money back to a string"
   ]
  },
  {
   "cell_type": "markdown",
   "metadata": {},
   "source": [
    "You can also make the input change into an __interger__ straight out of the input."
   ]
  },
  {
   "cell_type": "code",
   "execution_count": 5,
   "metadata": {
    "scrolled": true
   },
   "outputs": [
    {
     "name": "stdout",
     "output_type": "stream",
     "text": [
      "Enter a number: 4\n",
      "9\n"
     ]
    }
   ],
   "source": [
    "number = int(input('Enter a number: '))\n",
    "\n",
    "print(number + 5)"
   ]
  },
  {
   "cell_type": "markdown",
   "metadata": {},
   "source": [
    "## Activity\n",
    "Use a while loop to keep asking the user for input for the __Hot__ light power percentage. Make the code so if the entered value is 0, the program stops."
   ]
  },
  {
   "cell_type": "code",
   "execution_count": 8,
   "metadata": {},
   "outputs": [
    {
     "name": "stdout",
     "output_type": "stream",
     "text": [
      "TCLab version 0.4.6\n",
      "Could not connect at high speed, but succeeded at low speed.\n",
      "This may be due to an old TCLab firmware.\n",
      "New Arduino TCLab firmware available at:\n",
      " https://github.com/jckantor/TCLab-sketch\n",
      "NHduino connected on port COM5 at 9600 baud.\n",
      "TCLab Firmware Version 1.01.\n",
      "What percent: 4\n",
      "What percent: 80\n",
      "What percent: 50\n",
      "What percent: 2\n",
      "What percent: 0\n",
      "TCLab disconnected successfully.\n"
     ]
    }
   ],
   "source": [
    "import tclab\n"
   ]
  }
 ],
 "metadata": {
  "kernelspec": {
   "display_name": "Python 3",
   "language": "python",
   "name": "python3"
  },
  "language_info": {
   "codemirror_mode": {
    "name": "ipython",
    "version": 3
   },
   "file_extension": ".py",
   "mimetype": "text/x-python",
   "name": "python",
   "nbconvert_exporter": "python",
   "pygments_lexer": "ipython3",
   "version": "3.7.3"
  }
 },
 "nbformat": 4,
 "nbformat_minor": 2
}
