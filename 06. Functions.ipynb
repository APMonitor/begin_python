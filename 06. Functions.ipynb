{
 "cells": [
  {
   "cell_type": "markdown",
   "metadata": {},
   "source": [
    "## 6. Functions\n",
    "\n",
    "![list](https://apmonitor.com/che263/uploads/Begin_Python/list.png)\n",
    "\n",
    "Functions create modular code that can do the same task repeatedly without you having to type out the same code each time. Functions make complex code accessible with a single statement. You also can create your own function, but there are also some are built in to Python or in many packages. One built in function you have already seen is the ```print()``` function.\n",
    "\n",
    "[![Functions](https://apmonitor.com/che263/uploads/Begin_Python/BeginPython06.png)](https://www.youtube.com/watch?v=dP3e2jIHqXw&list=PLLBUgWXdTBDi3J05aMVG1knUpqRhkbc46 \"Functions\")\n",
    "\n",
    "For the incubation example, a display function could be used such as the function `ctemp()` to print the current temperature. This re-uses the print statement so that you don't need to type it out each time for temperatures 1 and 2.\n",
    "\n",
    "```python\n",
    "# create the function\n",
    "def ctemp(temperature):\n",
    "    print('Current temperature: ' + str(temperature) + '°C')\n",
    "    return\n",
    "\n",
    "# use the function twice\n",
    "ctemp(20.51)\n",
    "ctemp(22.57)\n",
    "```\n",
    "\n",
    "This prints the two temperatures as:\n",
    "\n",
    "```\n",
    "Current temperature: 20.51°C\n",
    "Current temperature: 22.57°C\n",
    "```"
   ]
  },
  {
   "cell_type": "markdown",
   "metadata": {},
   "source": [
    "### Creating a custom function\n",
    "\n",
    "![idea](https://apmonitor.com/che263/uploads/Begin_Python/idea.png)\n",
    "\n",
    "The way to tell the computer you are starting your own function is ```def``` followed by the function name. You need the ```():``` for the computer to recognize it as a function. \n",
    "\n",
    "```python\n",
    "def myFunction(): # Defining the Function\n",
    "```"
   ]
  },
  {
   "cell_type": "markdown",
   "metadata": {},
   "source": [
    "The code is then added into the function scope. Once the function code is complete, you need to call the function for it to run that code. The way you do that is the function name with ```()``` as `myFunction()`."
   ]
  },
  {
   "cell_type": "code",
   "execution_count": null,
   "metadata": {},
   "outputs": [],
   "source": [
    "def myFunction(): # Defining the Function\n",
    "    print(\"Function\")\n",
    "    \n",
    "myFunction() # Calling the Function"
   ]
  },
  {
   "cell_type": "markdown",
   "metadata": {},
   "source": [
    "You can also put in values in the ```()``` as inputs for the function. Sometimes a function needs multiple inputs and those can be separated with commas. You should also use the ```return``` statement that gives back results from `myFunction()`.\n",
    "\n",
    "This is a confusing concept, and if you need more help with it, play around with the code below or research information about Python functions online."
   ]
  },
  {
   "cell_type": "code",
   "execution_count": null,
   "metadata": {},
   "outputs": [],
   "source": [
    "def myFunction(a, b): \n",
    "    return a*b # Gives the multiplied value back to be output\n",
    "\n",
    "myFunction(3, 4) # Enters 3 into a and 4 into b"
   ]
  },
  {
   "cell_type": "markdown",
   "metadata": {},
   "source": [
    "### Activity\n",
    "\n",
    "![expert](https://apmonitor.com/che263/uploads/Begin_Python/expert.png)\n",
    "\n",
    "Make a function that adds two values together, you can choose the two values or make them an user input. Use the example above for help if you need it."
   ]
  },
  {
   "cell_type": "code",
   "execution_count": null,
   "metadata": {},
   "outputs": [],
   "source": [
    "def adding():\n",
    "    #Code\n",
    "    \n",
    "adding()"
   ]
  },
  {
   "cell_type": "markdown",
   "metadata": {},
   "source": [
    "### TCLab Functions\n",
    "\n",
    "![connections](https://apmonitor.com/che263/uploads/Begin_Python/connections.png)\n",
    "\n",
    "In the last lesson on objects, it mentioned the ```lab``` object. Objects can have functions that are used with a ```.``` and then the function name. Functions can change things on the TCLab such as __light brightness__, __heater power__, and get __temperatures__.\n",
    "\n",
    "***LED***\n",
    "\n",
    "```lab.LED()``` This function sets the LED power, that is labeled __Hot__, on your tclab turn on at a certain brightness. If you want the light brightest use ```lab.LED(100)``` and ```lab.LED(0)``` to turn the LED off.\n",
    "\n",
    "***Heaters***\n",
    "\n",
    "```lab.Q1()``` or ```lab.Q2()``` sets the power percentage of heater one or two. Same as the ```LED``` function, ```Q1``` is set highest at ```lab.Q1(100)``` and off at ```lab.Q1(0)```. The other heater works the same way, ```Q2``` is set highest at ```lab.Q2(100)``` and off at ```lab.Q2(0)```\n",
    "\n",
    "***Temperatures***\n",
    "\n",
    "```lab.T1``` or ```lab.T2``` gives the current reading of the temperature for the first or second heater. It gives the values in __Celsius__.\n",
    "\n",
    "***Disconnecting***\n",
    "\n",
    "We also use ```lab.close()``` at the end of the program to disconnect the kit to make sure it doesn't keep the heaters on. This function does _not_ turn off the LED, however."
   ]
  },
  {
   "cell_type": "markdown",
   "metadata": {},
   "source": [
    "### Activity\n",
    "\n",
    "![expert](https://apmonitor.com/che263/uploads/Begin_Python/expert.png)\n",
    "\n",
    "Use the LED at 70% and then turn it off after 10 seconds. "
   ]
  },
  {
   "cell_type": "code",
   "execution_count": null,
   "metadata": {},
   "outputs": [],
   "source": [
    "import tclab\n",
    "import time \n",
    "\n",
    "lab = tclab.TCLab() # Creates object: lab\n",
    "\n",
    "lab.LED('Put your percent here') # Light Power Percentage\n",
    "time.sleep(\"How long you want it to turn on\") # Program Waits\n",
    "lab.LED(0) # Light Turned off\n",
    "\n",
    "lab.close() # Disconnects Kit"
   ]
  },
  {
   "cell_type": "markdown",
   "metadata": {},
   "source": [
    "Use heater one, ```lab.Q1```, at 40 percent and heater two, ```lab.Q2```, at 80 percent. Use ```print()``` to record the temperatures with ```lab.T1``` and ```lab.T2``` after 10 seconds, with ```time.sleep()```. Make sure to disconnect the heaters after you record the temperatures. Use the LED activity and the discriptions above if you don't remember some of the functions. If the heaters don't turn off because of a bug in your code, unplug the cables connected to the lab to stop the heaters or restart the kernel to run the lab again. If you get errors when you run your code, check out the __TCLab Help__ IPython notebook for common errors or search the [Frequently Asked Questions for Troubleshooting](https://apmonitor.com/pdc/index.php/Main/ArduinoSetup). You can also read the error descriptions Jupyter gives you below your code to diagnose the problem."
   ]
  },
  {
   "cell_type": "code",
   "execution_count": null,
   "metadata": {},
   "outputs": [],
   "source": []
  }
 ],
 "metadata": {
  "kernelspec": {
   "display_name": "Python 3",
   "language": "python",
   "name": "python3"
  },
  "language_info": {
   "codemirror_mode": {
    "name": "ipython",
    "version": 3
   },
   "file_extension": ".py",
   "mimetype": "text/x-python",
   "name": "python",
   "nbconvert_exporter": "python",
   "pygments_lexer": "ipython3",
   "version": "3.7.4"
  }
 },
 "nbformat": 4,
 "nbformat_minor": 2
}
