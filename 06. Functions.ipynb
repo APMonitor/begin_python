{
 "cells": [
  {
   "cell_type": "markdown",
   "metadata": {},
   "source": [
    "# Functions\n",
    "Some functions exist to do the same task repeatedly without you having to type out the same code everytime. Others put complex code into a single word that can be accessed. You also can create your own function, but also some are built in to python or in certain packages. One built in function you have already seen is the ```print()``` function. \n",
    "\n",
    "For the incubation example, something like a display function would be used, so you could display numbers with out having to code each light on the display."
   ]
  },
  {
   "cell_type": "markdown",
   "metadata": {},
   "source": [
    "## Creating your own\n",
    "The way to tell the computer you are starting your own function is ```def``` followed by the function name. You need the ```():``` for the computer to recognize it as a function. \n",
    "\n",
    "```python\n",
    "def myFunction(): # Defining the Function\n",
    "```"
   ]
  },
  {
   "cell_type": "markdown",
   "metadata": {},
   "source": [
    "The code is then put into the function on what it's supposed to do. \n",
    "\n",
    "But now you need to call the function for it to actually use that code. The way you do that is the function name with ```()```."
   ]
  },
  {
   "cell_type": "code",
   "execution_count": null,
   "metadata": {},
   "outputs": [],
   "source": [
    "def myFunction(): # Defining the Function\n",
    "    print(\"Function\")\n",
    "    \n",
    "myFunction() # Calling the Function"
   ]
  },
  {
   "cell_type": "markdown",
   "metadata": {},
   "source": [
    "You can also put in values in the ```()``` to the function that it needs to run. Sometimes a function you've made needs two numbers for example, to do an equation. You should also use the ```return``` phrase that gives back the called statement, ```myFunction()```, a value to output.\n",
    "\n",
    "This is a confusing concept, and if you need more help with it, play around with the code below or research functions online."
   ]
  },
  {
   "cell_type": "code",
   "execution_count": null,
   "metadata": {},
   "outputs": [],
   "source": [
    "def myFunction(a, b): \n",
    "    return a*b # Gives the multiplied value back to be output\n",
    "\n",
    "myFunction(3, 4) # Enters 3 into a and 4 into b"
   ]
  },
  {
   "cell_type": "markdown",
   "metadata": {},
   "source": [
    "## Activity\n",
    "Make a function that adds two values together, you can choose the two values or make them an user input. Use the example above for help if you need it."
   ]
  },
  {
   "cell_type": "code",
   "execution_count": null,
   "metadata": {},
   "outputs": [],
   "source": [
    "def adding():\n",
    "    #Code\n",
    "    \n",
    "adding()"
   ]
  },
  {
   "cell_type": "markdown",
   "metadata": {},
   "source": [
    "## TCLab Functions\n",
    "In the last lesson on objects, it mentioned the ```lab``` object. Objects can have functions that are used with a ```.``` and then the function name. Using functions, we can change things on our temperture kit values such as __light brightness__, __heater power__, and get __output tempertures__.\n",
    "\n",
    "### LED\n",
    "```lab.LED()``` This function will set the light, that is labeled __Hot__, on your tclab turn on at a certain brightness. If you want the light brightest you would use ```lab.LED(100)``` and all the way off ```lab.LED(0)```.\n",
    "\n",
    "### Heaters\n",
    "```lab.Q1()``` or ```lab.Q2()``` will set the power percentage of heater one or two. Same as the ```LED``` function, ```Q1``` is set highest at ```lab.Q1(100)``` and off at ```lab.Q1(0)```. The other heater works the same way, ```Q2``` is set highest at ```lab.Q2(100)``` and off at ```lab.Q2(0)```\n",
    "\n",
    "### Temperture Readers\n",
    "```lab.T1``` or ```lab.T2``` gives the current reading of the heater it corresponds to. It will give the values in __Celcius__.\n",
    "\n",
    "### Disconnecting\n",
    "We also use ```lab.close()``` at the end of the program to disconnect the kit to make sure it doesn't keep running the heaters. You don't want your heaters to keep going when you don't want them to. This function does _not_ turn off the LED however."
   ]
  },
  {
   "cell_type": "markdown",
   "metadata": {},
   "source": [
    "## Activity\n",
    "Use the LED at a percent of (your choice) and then turn it off after (your choice) seconds. "
   ]
  },
  {
   "cell_type": "code",
   "execution_count": null,
   "metadata": {},
   "outputs": [],
   "source": [
    "import tclab\n",
    "import time \n",
    "\n",
    "lab = tclab.TCLab() # Creates object: lab\n",
    "\n",
    "lab.LED('Put your percent here') # Light Power Percentage\n",
    "time.sleep(\"How long you want it to turn on\") # Program Waits\n",
    "lab.LED(0) # Light Turned off\n",
    "\n",
    "lab.close() # Disconnects Kit"
   ]
  },
  {
   "cell_type": "markdown",
   "metadata": {},
   "source": [
    "Use heater one, ```lab.Q1```, at 40 percent and heater two, ```lab.Q2```, at 80 percent. Use ```print()``` to record the tempertures with ```lab.T1``` and ```lab.T2``` after 10 seconds, with ```time.sleep()```. Make sure to disconnect the heaters after you record the tempertures. Use the LED activity and the discriptions above if you don't remember some of the functions. \n",
    "\n",
    "If the heaters don't turn off because of a bug in the code, unplug the cables connected to the lab to stop heat up.\n",
    "\n",
    "If you get errors when you run your code, check out the __Useful for TCLab__ File for common errors. You can also read the error descriptions Jupyter gives you below your code to figure out what the problem is."
   ]
  },
  {
   "cell_type": "code",
   "execution_count": null,
   "metadata": {},
   "outputs": [],
   "source": []
  }
 ],
 "metadata": {
  "kernelspec": {
   "display_name": "Python 3",
   "language": "python",
   "name": "python3"
  },
  "language_info": {
   "codemirror_mode": {
    "name": "ipython",
    "version": 3
   },
   "file_extension": ".py",
   "mimetype": "text/x-python",
   "name": "python",
   "nbconvert_exporter": "python",
   "pygments_lexer": "ipython3",
   "version": "3.7.3"
  }
 },
 "nbformat": 4,
 "nbformat_minor": 2
}
