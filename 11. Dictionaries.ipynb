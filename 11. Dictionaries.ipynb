{
 "cells": [
  {
   "cell_type": "markdown",
   "metadata": {},
   "source": [
    "## 11. Dictionaries\n",
    "\n",
    "![list](https://apmonitor.com/che263/uploads/Begin_Python/list.png)\n",
    "\n",
    "Dictionaries are a list with key and value pairs.\n",
    "\n",
    "[![Dictionaries](https://apmonitor.com/che263/uploads/Begin_Python/BeginPython11.png)](https://www.youtube.com/watch?v=klEt6bU0bYg&list=PLLBUgWXdTBDi3J05aMVG1knUpqRhkbc46 \"Dictionaries\")\n",
    "\n",
    "The format for this method of storing values is curly brackets ```{}``` as seen below. After you assign a dictionary a name, you can enter values by putting a value followed by a colon to indicate the corresponding value. Multiple corresponding values in a dictionary are separated by commas. You can also print the corresponding value of the key, using brackets ```[]```."
   ]
  },
  {
   "cell_type": "code",
   "execution_count": null,
   "metadata": {
    "scrolled": true
   },
   "outputs": [],
   "source": [
    "dictionary = {} # An empty dictionary\n",
    "print(dictionary)\n",
    "\n",
    "new_Dictionary = {1: 'First value', 2: 'Second value', 3: 'Third value'} # Dictionary with 3 keys / values\n",
    "print(new_Dictionary)"
   ]
  },
  {
   "cell_type": "markdown",
   "metadata": {},
   "source": [
    "Many things can be done to dictionaries, including changing values, adding new keys, and more."
   ]
  },
  {
   "cell_type": "code",
   "execution_count": null,
   "metadata": {
    "scrolled": false
   },
   "outputs": [],
   "source": [
    "new_Dictionary = {1: 'First value', 2: 'Second value', 3: 'Third value'}\n",
    "print(new_Dictionary)\n",
    "\n",
    "print(new_Dictionary[2]) # Prints corresponding value for 2\n",
    "\n",
    "new_Dictionary[2] = \"This is different\" # Changes corresponding value for 2\n",
    "\n",
    "print(new_Dictionary[2])\n",
    "\n",
    "print(new_Dictionary)"
   ]
  },
  {
   "cell_type": "markdown",
   "metadata": {},
   "source": [
    "Creating another key is like changing a value, but instead of using the same key name, like ```new_Dictionary[2]``` you make a new one, such as ```new_Dictionary[4]```."
   ]
  },
  {
   "cell_type": "code",
   "execution_count": null,
   "metadata": {},
   "outputs": [],
   "source": [
    "definitions = {'egg': 'an oval or round object laid by a female bird, reptile, fish, or invertebrate',\\\n",
    "               'chick': 'a young bird, especially one newly hatched'}\n",
    "print(definitions)\n",
    "\n",
    "definitions['hatchling'] = 'a young animal that has recently emerged from its egg'\n",
    "print(definitions)"
   ]
  },
  {
   "cell_type": "markdown",
   "metadata": {},
   "source": [
    "### Activity\n",
    "\n",
    "![expert](https://apmonitor.com/che263/uploads/Begin_Python/expert.png)\n",
    "\n",
    "Create a dictionary of animals that lay eggs (at least three) with a discription of them as the value. \n",
    "\n",
    "![animal eggs](https://apmonitor.com/che263/uploads/Begin_Python/animal_eggs.png)\n",
    "\n",
    "Make a while loop with an input to ask for the description of an animal. The `while` loop should stop if equal to ```\"none\"```. Make sure the loop prints the discription of the animal entered."
   ]
  },
  {
   "cell_type": "code",
   "execution_count": null,
   "metadata": {},
   "outputs": [],
   "source": [
    "animals = {}"
   ]
  }
 ],
 "metadata": {
  "kernelspec": {
   "display_name": "Python 3",
   "language": "python",
   "name": "python3"
  },
  "language_info": {
   "codemirror_mode": {
    "name": "ipython",
    "version": 3
   },
   "file_extension": ".py",
   "mimetype": "text/x-python",
   "name": "python",
   "nbconvert_exporter": "python",
   "pygments_lexer": "ipython3",
   "version": "3.7.5"
  }
 },
 "nbformat": 4,
 "nbformat_minor": 2
}
