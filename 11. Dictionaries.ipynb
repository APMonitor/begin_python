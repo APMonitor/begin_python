{
 "cells": [
  {
   "cell_type": "markdown",
   "metadata": {},
   "source": [
    "# Dictionaries\n",
    "Dictionaries assign a key to a certain value. The format for this method of storing values is curly brackets ```{}``` as seen below. After you assign a dictionary a name, you can enter values by putting a value followed by a colon to indicate the corresponding value. Multiple corresponding values in a dictionary are seperated by commas. You can also print the corresponding value of the key, using brackets ```[]```."
   ]
  },
  {
   "cell_type": "code",
   "execution_count": null,
   "metadata": {},
   "outputs": [],
   "source": [
    "dictionary = {} # An empty dictionary\n",
    "print(dictionary)\n",
    "\n",
    "new_Dictionary = {1: 'First value', 2: 'Second value', 3: 'Third value'} # Dictionary with 3 corresponding values\n",
    "print(new_Dictionary)\n",
    "\n",
    "print(new_Dictionary[2]) # Prints corresponding value for \"2\""
   ]
  },
  {
   "cell_type": "markdown",
   "metadata": {},
   "source": [
    "### Ending Introduction\n",
    "You can see this gets complicated, fast, with almost endless examples of what you can combine with what you've learned so far from previous lessons. You probably don't want a ton of lessons going over every possible example, so the best way to use this knowledge you've learned is figure out when to use these basics. So if you get stuck, review the basics again, even on another python course, and break down big projects into smaller tasks like we talked about in the __Debugging__ lesson. Finish this lesson to complete the basic sections of this python course. "
   ]
  }
 ],
 "metadata": {
  "kernelspec": {
   "display_name": "Python 3",
   "language": "python",
   "name": "python3"
  },
  "language_info": {
   "codemirror_mode": {
    "name": "ipython",
    "version": 3
   },
   "file_extension": ".py",
   "mimetype": "text/x-python",
   "name": "python",
   "nbconvert_exporter": "python",
   "pygments_lexer": "ipython3",
   "version": "3.7.3"
  }
 },
 "nbformat": 4,
 "nbformat_minor": 2
}
