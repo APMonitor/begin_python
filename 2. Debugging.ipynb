{
 "cells": [
  {
   "cell_type": "markdown",
   "metadata": {},
   "source": [
    "# Debugging\n",
    "\n",
    "One of the biggest time consumers in programming is debugging, or mistakes in your programming. This is true for every language because the computer needs exact commands. To limit this mistake, a couple of steps can limit the time you are just looking for mistakes, instead of just programming. \n",
    "\n",
    "### Steps for more effective programming\n",
    "#### _First_\n",
    "You should start with understanding the big picture. It seems silly, but once you start going over the whole thing you find a lot of gaps. Do this in whichever way suits you best, we’ll leave it up to you.\n",
    "#### _Second_\n",
    "Start with outlining your code, writing in English what you want the code to do, then break it into more direct tasks.\n",
    "#### _Third_\n",
    "Program the specific tasks and connect them together. The explained direct tasks make it significantly easier to program. It’s a lot harder to program something all in one go if the program is bigger.\n",
    "#### _Fourth_\n",
    "Test and fix problems. Basically debugging, but don’t only test the whole project all in one go. It’s much easier to find a problem if you test every once in a while, when you are programming.\n",
    "\n",
    "The better you follow these steps the less time you will have to spend fixing problems in your code."
   ]
  }
 ],
 "metadata": {
  "kernelspec": {
   "display_name": "Python 3",
   "language": "python",
   "name": "python3"
  },
  "language_info": {
   "codemirror_mode": {
    "name": "ipython",
    "version": 3
   },
   "file_extension": ".py",
   "mimetype": "text/x-python",
   "name": "python",
   "nbconvert_exporter": "python",
   "pygments_lexer": "ipython3",
   "version": "3.7.3"
  }
 },
 "nbformat": 4,
 "nbformat_minor": 2
}
