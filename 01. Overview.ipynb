{
 "cells": [
  {
   "cell_type": "markdown",
   "metadata": {},
   "source": [
    "# Python Knowledge Interactive\n",
    "\n",
    "## ***Background:***\n",
    "You have an egg you really want to hatch, but you don't want to sit around forever, checking the temperture and adjusting heaters manually. The best way to do this you found, was control the heaters using python. Unfortunately, you only get one egg, so one try to get this right. But, you do have a simulator of the incubator so you can practice python, without having to worry about mistakes so you can perfect the code before you try the real thing. \n",
    "\n",
    "## ***Introduction:***\n",
    "Every programmer must get some background knowledge before using the language more complexly. So if you want to do well in the second, complex part, that will better monitor the egg you should for sure work through the basic information. For the people who already have experience with python and think this doesn’t apply to you, this background knowledge is different. It uses the temperature control lab to help teach basics. So when things start to get more complex you'll be glad you had some tclab background knowledge.\n",
    "\n",
    "### ***Some things this background knowledge interactive will go through are:***\n",
    "\n",
    "1. Overview (this lesson)\n",
    "2. Debugging\n",
    "3. Variables\n",
    "4. Printing\n",
    "5. Objects\n",
    "6. Functions\n",
    "7. Loops\n",
    "8. Input\n",
    "9. If Statements\n",
    "10. Lists and Tuples\n",
    "11. Plotting\n",
    "\n",
    "It is best to follow the lessons in those steps because it adds on from the previous lesson most times.\n",
    "\n",
    "Some things, such as __tclab functions__, __tclab package updates__, __common tclab errors__, and __python equations__ you aren't required to learn but can be useful. If you wish to learn those, __useful for tclab__ and __basic python knowledge__, are on seperate files in the same folder. \n",
    "\n",
    "Other general python info, such as equations, can be found online.\n",
    "\n",
    "*Installation of TCLab package is on the Objects Lesson, number 5. Or in the file, Useful For TCLab.*"
   ]
  }
 ],
 "metadata": {
  "kernelspec": {
   "display_name": "Python 3",
   "language": "python",
   "name": "python3"
  },
  "language_info": {
   "codemirror_mode": {
    "name": "ipython",
    "version": 3
   },
   "file_extension": ".py",
   "mimetype": "text/x-python",
   "name": "python",
   "nbconvert_exporter": "python",
   "pygments_lexer": "ipython3",
   "version": "3.7.3"
  }
 },
 "nbformat": 4,
 "nbformat_minor": 2
}
