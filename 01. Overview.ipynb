{
 "cells": [
  {
   "cell_type": "markdown",
   "metadata": {},
   "source": [
    "# Python Knowledge Interactive\n",
    "\n",
    "## ***Background:***\n",
    "You have a chicken egg you really want to hatch, but you don't want to sit around forever, checking the temperture and adjusting heaters. The best way to do this you found, was control it using python. Unfortunately, you only get one try to get this right. Fortunately, you have a simulator of the incubator so you can practice python, without having to worry about mistakes. \n",
    "\n",
    "## ***Introduction:***\n",
    "Every programmer must get some background knowledge before using the language more complexly. So if you want to do well in the second, complex part, that will better monitor the egg you should for sure work through the basic information. For the people who already have experience with python and think this doesn’t apply to you, this background knowledge is different because it uses the temperature control lab to help teach basics and if you don't do it part two won't be so easy.\n",
    "\n",
    "### ***Some things this background knowledge interactive will go through are:***\n",
    "\n",
    "#### -Debugging\n",
    "#### -Variables\n",
    "#### -Printing\n",
    "#### -Objects\n",
    "#### -Functions\n",
    "#### -Loops\n",
    "#### -Input\n",
    "#### -If Statements\n",
    "#### -Lists and Tuples\n",
    "#### -Arrays\n",
    "#### -Plotting\n",
    "\n",
    "(It is best to follow the lessons in those steps. Some things, such as __equations__, and __tclab functions__, you aren't required to learn but can be useful. If you wish to learn those, __tclab functions__ and __basic python equations__, are on __cheat sheets__ in seperate files. Other general python info, such as equations, can be found online.)\n",
    "\n",
    "*Installation of TCLab is on the Functions Lesson, number 6. Or in the file, Useful For TCLab*"
   ]
  }
 ],
 "metadata": {
  "kernelspec": {
   "display_name": "Python 3",
   "language": "python",
   "name": "python3"
  },
  "language_info": {
   "codemirror_mode": {
    "name": "ipython",
    "version": 3
   },
   "file_extension": ".py",
   "mimetype": "text/x-python",
   "name": "python",
   "nbconvert_exporter": "python",
   "pygments_lexer": "ipython3",
   "version": "3.7.3"
  }
 },
 "nbformat": 4,
 "nbformat_minor": 2
}
