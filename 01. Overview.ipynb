{
 "cells": [
  {
   "cell_type": "markdown",
   "metadata": {},
   "source": [
    "## 1. Overview\n",
    "\n",
    "### Background\n",
    "\n",
    "![hatch](https://apmonitor.com/che263/uploads/Begin_Python/hatch.png)\n",
    "\n",
    "You have eggs that need to hatch in an incubator. One option is to constantly check the temperature and adjust the heaters manually. Another way is to automate the temperature control by constantly checking the temperature and adjusting the heaters with Python. Unfortunately, you only get three eggs for the test and one attempt to get it right. You do have a simulator of the incubator (TCLab) so you can practice Python, without having to worry about mistakes. The purpose of this lab is to develop a temperature controller (like a thermostat) that could be used for an egg incubator. There are other factors such as humidity and turning the eggs that are important with incubators but we'll only focus on the temperature for this project.\n",
    "\n",
    "[Python Playlist on YouTube](https://www.youtube.com/watch?v=wuWLVbBFPuc&list=PLLBUgWXdTBDi3J05aMVG1knUpqRhkbc46)",
    "\n",
    "[![Course Overview](https://apmonitor.com/che263/uploads/Begin_Python/BeginPython01.png)](https://www.youtube.com/watch?v=wuWLVbBFPuc&list=PLLBUgWXdTBDi3J05aMVG1knUpqRhkbc46 \"Course Overview\")\n",
    "\n",
    "### Introduction\n",
    "\n",
    "Every programmer must have basic background knowledge before using the language in more complex projects. This tutorial steps through basic programming skills to build the more complex incubator temperature control. The introductory 12 exercises are designed to be completed in 2-3 hours (15-20 minutes each) but sections can be skipped if you already have the background knowledge.\n",
    "\n",
    "If you want to do well in monitoring and controlling the egg temperature, you should work through the basic information. For those who already have experience with Python, this background knowledge also teaches the `tclab` package functions.\n",
    "\n",
    "1. Overview (this lesson)\n",
    "2. Debugging\n",
    "3. Variables\n",
    "4. Printing\n",
    "5. Classes and Objects\n",
    "6. Functions\n",
    "7. Loops\n",
    "8. Input\n",
    "9. If Statements\n",
    "10. Lists and Tuples\n",
    "11. Dictionaries\n",
    "12. Plotting\n",
    "\n",
    "It is best to follow the lessons in these steps because the later lessons build upon the information from the prior lessons.\n",
    "\n",
    "### Install TCLab Module and Test LED\n",
    "\n",
    "![connections_no_power](https://apmonitor.com/che263/uploads/Begin_Python/connections_no_power.png)\n",
    "\n",
    "You need the TCLab to do the exercises. As a first step, plug in the TCLab (USB blue cable only) and install the package with `pip install tclab` or by running the cell below (`Ctrl+Enter`). Restart the Python kernal with `Kernel...Restart & Run All` from the menu if there is an error importing `tclab` after the installation."
   ]
  },
  {
   "cell_type": "code",
   "execution_count": null,
   "metadata": {},
   "outputs": [],
   "source": [
    "# install tclab\n",
    "try:\n",
    "    import tclab\n",
    "except:\n",
    "    # Needed to communicate through usb port\n",
    "    !pip install --user pyserial\n",
    "    # The --user is put in for accounts without admin privileges\n",
    "    !pip install --user tclab \n",
    "    # restart kernel if this doesn't import\n",
    "    import tclab\n",
    "    \n",
    "import time\n",
    "\n",
    "# tclab test\n",
    "lab = tclab.TCLab()\n",
    "lab.LED(100)  # turn on LED\n",
    "time.sleep(5) # wait 5 seconds\n",
    "lab.LED(0)    # turn off LED\n",
    "lab.close()"
   ]
  },
  {
   "cell_type": "markdown",
   "metadata": {},
   "source": [
    "There are seperate Jupyter notebook files to help with TCLab installation. There are also [Frequently Asked Questions](https://apmonitor.com/pdc/index.php/Main/ArduinoSetup) for setup and troubleshooting. More information on installation of TCLab package is in **5. Objects Lesson** and also in the IPython notebook __TCLab Help__."
   ]
  }
 ],
 "metadata": {
  "kernelspec": {
   "display_name": "Python 3",
   "language": "python",
   "name": "python3"
  },
  "language_info": {
   "codemirror_mode": {
    "name": "ipython",
    "version": 3
   },
   "file_extension": ".py",
   "mimetype": "text/x-python",
   "name": "python",
   "nbconvert_exporter": "python",
   "pygments_lexer": "ipython3",
   "version": "3.7.5"
  }
 },
 "nbformat": 4,
 "nbformat_minor": 2
}
