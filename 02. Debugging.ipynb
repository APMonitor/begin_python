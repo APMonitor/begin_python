{
 "cells": [
  {
   "cell_type": "markdown",
   "metadata": {},
   "source": [
    "## 2. Debugging\n",
    "\n",
    "![debug](https://apmonitor.com/che263/uploads/Begin_Python/debug.png)\n",
    "\n",
    "One of the biggest time consuming parts of programming is debugging, or resolving mistakes in the program. This is true for every language because the computer needs exact commands, which is very important for precise measurements and temperature control. A few steps can limit the time you are searching for mistakes, instead of completing the project. \n",
    "\n",
    "[Python Playlist on YouTube](https://www.youtube.com/watch?v=n1BlQkoWbdM&list=PLLBUgWXdTBDi3J05aMVG1knUpqRhkbc46)",
    "\n",
    "[![Pseudo-Code and Debugging](https://apmonitor.com/che263/uploads/Begin_Python/BeginPython02.png)](https://www.youtube.com/watch?v=n1BlQkoWbdM&list=PLLBUgWXdTBDi3J05aMVG1knUpqRhkbc46 \"Pseudo-Code and Debugging\")\n",
    "\n",
    "### Steps for more effective programming\n",
    "\n",
    "![list](https://apmonitor.com/che263/uploads/Begin_Python/list.png)\n",
    "\n",
    "1. Start with understanding the big picture. Go over the whole program architecture to find high-level gaps. Do this in whichever way suits you best, such as drawing a flowchart. For the egg incubator, the program scope is to diagram what you actually need to do to help an egg hatch.\n",
    "\n",
    "2. Start by outlining your code, writing **high-level instructions (pseudo-code)** what you want each section of the code to do. Break it into more specific tasks. You can do this even without understanding the basics of Python. Once you learn Python basics, you can translate these high level instructions into code. Organizing the outline helps to make sure your programming isn't more complex than it needs to be.\n",
    "\n",
    "3. Program the specific tasks and connect them together. Direct tasks make it significantly easier to program because the program is modular. It is a lot harder to program something if the program is large and complex. For the incubator, this may be programming something specific like how hard the heater should work, based on a low temperature reading.\n",
    "\n",
    "4. Test and fix problems. This is debugging, but don’t only test the whole project after you've completed all of the programming. It is much easier to find a problem if you test every once in a while, when you are programming smaller parts. A good way to do this is grab a specific piece of code, run it on a separate file, and see if it does the job you want. An example would be fixing when the heater should stop working, so the egg doesn't go over temperature.\n",
    "\n",
    "The better you follow these steps the less time you will have to spend fixing problems in your code for your incubator, or just Python programs in general.\n",
    "\n",
    "### Activity\n",
    "\n",
    "![expert](https://apmonitor.com/che263/uploads/Begin_Python/expert.png)\n",
    "\n",
    "Fix the errors in the following code cells. Use the error messages to help you locate the problems."
   ]
  },
  {
   "cell_type": "code",
   "execution_count": null,
   "metadata": {},
   "outputs": [],
   "source": [
    "print('Program to Hatch an Egg)  # hint: look for a missing ' character"
   ]
  },
  {
   "cell_type": "code",
   "execution_count": null,
   "metadata": {},
   "outputs": [],
   "source": [
    "target temperature = 37  # hint: variable names cannot have spaces"
   ]
  },
  {
   "cell_type": "code",
   "execution_count": null,
   "metadata": {},
   "outputs": [],
   "source": [
    "current_temperature = 30\n",
    "target_temperature = 37\n",
    "difference = target_temperature - current_temperature\n",
    "print(difference + 'degC')  # hint: use str(difference) to make it a string"
   ]
  }
 ],
 "metadata": {
  "kernelspec": {
   "display_name": "Python 3",
   "language": "python",
   "name": "python3"
  },
  "language_info": {
   "codemirror_mode": {
    "name": "ipython",
    "version": 3
   },
   "file_extension": ".py",
   "mimetype": "text/x-python",
   "name": "python",
   "nbconvert_exporter": "python",
   "pygments_lexer": "ipython3",
   "version": "3.7.4"
  }
 },
 "nbformat": 4,
 "nbformat_minor": 2
}
