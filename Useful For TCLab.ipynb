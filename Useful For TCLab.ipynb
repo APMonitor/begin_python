{
 "cells": [
  {
   "cell_type": "markdown",
   "metadata": {},
   "source": [
    "# TCLab Cheat Sheet\n",
    "\n",
    "#### Connect/Disconnect\n",
    "```lab = tclab.TCLab()``` to connect and create new lab object, ```lab.close()```\n",
    "\n",
    "#### LED\n",
    "```lab.LED()``` Percentage of output light for __Hot__ Light\n",
    "\n",
    "#### Heaters\n",
    "```lab.Q1()``` and ```lab.Q2()``` Percentage of power to heaters\n",
    "\n",
    "#### Temperture Readers\n",
    "```lab.T1``` and ```lab.T2``` Value of current heater tempertures\n",
    "\n",
    "_(All these functions are gone through in depth in lesson 6)_"
   ]
  },
  {
   "cell_type": "markdown",
   "metadata": {},
   "source": [
    "### How to Use Programs Below\n",
    "Use the symbol to run the needed cell, left of the program."
   ]
  },
  {
   "cell_type": "markdown",
   "metadata": {},
   "source": [
    "## Install Temperature Control Lab\n",
    "This code installs a program that will let you use your Temperature Control Kit."
   ]
  },
  {
   "cell_type": "code",
   "execution_count": null,
   "metadata": {},
   "outputs": [],
   "source": [
    "# install tclab\n",
    "try:\n",
    "    import tclab\n",
    "except:\n",
    "    # Needed to communicate through usb port\n",
    "    !pip install --user pyserial\n",
    "    # The --user is put in for accounts without admin privileges\n",
    "    !pip install --user tclab \n",
    "    # restart kernel if this doesn't import\n",
    "    import tclab"
   ]
  },
  {
   "cell_type": "markdown",
   "metadata": {},
   "source": [
    "## Update Temperature Control Lab\n",
    "Updates package to latest version."
   ]
  },
  {
   "cell_type": "code",
   "execution_count": 1,
   "metadata": {},
   "outputs": [
    {
     "name": "stdout",
     "output_type": "stream",
     "text": [
      "Requirement already up-to-date: tclab in c:\\users\\eric\\anaconda3\\lib\\site-packages (0.4.9)\n",
      "Requirement already satisfied, skipping upgrade: pyserial in c:\\users\\eric\\anaconda3\\lib\\site-packages (from tclab) (3.4)\n"
     ]
    }
   ],
   "source": [
    "!pip install tclab --upgrade"
   ]
  },
  {
   "cell_type": "markdown",
   "metadata": {},
   "source": [
    "## Connection Check\n",
    "Connects then disconnects the tclab. If an error is shown, try unplugging your lab and/or restarting jupyter's kernal located above."
   ]
  },
  {
   "cell_type": "code",
   "execution_count": null,
   "metadata": {},
   "outputs": [],
   "source": [
    "import tclab\n",
    "lab = tclab.TCLab()\n",
    "lab.close()"
   ]
  }
 ],
 "metadata": {
  "kernelspec": {
   "display_name": "Python 3",
   "language": "python",
   "name": "python3"
  },
  "language_info": {
   "codemirror_mode": {
    "name": "ipython",
    "version": 3
   },
   "file_extension": ".py",
   "mimetype": "text/x-python",
   "name": "python",
   "nbconvert_exporter": "python",
   "pygments_lexer": "ipython3",
   "version": "3.7.3"
  }
 },
 "nbformat": 4,
 "nbformat_minor": 2
}
