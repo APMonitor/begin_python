{
 "cells": [
  {
   "cell_type": "markdown",
   "metadata": {},
   "source": [
    "# TCLab Cheat Sheet\n",
    "\n",
    "#### Connect/Disconnect\n",
    "```lab = tclab.TCLab()``` Connect and create new lab object, ```lab.close()``` disconnects lab.\n",
    "\n",
    "#### LED\n",
    "```lab.LED()``` Percentage of output light for __Hot__ Light.\n",
    "\n",
    "#### Heaters\n",
    "```lab.Q1()``` and ```lab.Q2()``` Percentage of power to heaters.\n",
    "\n",
    "#### Temperture Readers\n",
    "```lab.T1``` and ```lab.T2``` Value of current heater tempertures.\n",
    "\n",
    "_(All these functions are gone through in depth in lesson 6 - Functions)_"
   ]
  },
  {
   "cell_type": "markdown",
   "metadata": {},
   "source": [
    "## Errors \n",
    "Submit an error to us at eric@apmonitor.com so we can fix the problem and add it to this list.\n",
    "1. Open Connection\n",
    "\n",
    "If you get the error about already having an open connection, try restarting the **kernel**. Go to the top of the page to the **Kernel** tab, click it, then click restart."
   ]
  },
  {
   "cell_type": "markdown",
   "metadata": {},
   "source": [
    "## How to Use Programs Below\n",
    "Use the symbol to run the needed cell, left of the program. If you don't see a symbol, try selecting the cell and holding Ctrl, then pressing Enter. Another option is clicking the \"Run\" button at the top of the page when the cell is selected."
   ]
  },
  {
   "cell_type": "markdown",
   "metadata": {},
   "source": [
    "## Install Temperature Control Lab\n",
    "This code trys to import then if it fails, installs the program that will let you use your Temperature Control Kit."
   ]
  },
  {
   "cell_type": "code",
   "execution_count": 1,
   "metadata": {},
   "outputs": [],
   "source": [
    "# install tclab\n",
    "try:\n",
    "    import tclab\n",
    "except:\n",
    "    # Needed to communicate through usb port\n",
    "    !pip install --user pyserial\n",
    "    # The --user is put in for accounts without admin privileges\n",
    "    !pip install --user tclab \n",
    "    # restart kernel if this doesn't import\n",
    "    import tclab"
   ]
  },
  {
   "cell_type": "markdown",
   "metadata": {},
   "source": [
    "## Update Temperature Control Lab\n",
    "Updates package to latest version."
   ]
  },
  {
   "cell_type": "code",
   "execution_count": 2,
   "metadata": {},
   "outputs": [
    {
     "name": "stdout",
     "output_type": "stream",
     "text": [
      "Requirement already up-to-date: tclab in c:\\programdata\\anaconda3\\lib\\site-packages (0.4.9)\n",
      "Requirement already satisfied, skipping upgrade: pyserial in c:\\programdata\\anaconda3\\lib\\site-packages (from tclab) (3.4)\n"
     ]
    }
   ],
   "source": [
    "!pip install tclab --upgrade --user"
   ]
  },
  {
   "cell_type": "markdown",
   "metadata": {},
   "source": [
    "## Connection Check\n",
    "Connects then disconnects the tclab. If an error is shown, try unplugging your lab and/or restarting jupyter's kernal located above."
   ]
  },
  {
   "cell_type": "code",
   "execution_count": null,
   "metadata": {},
   "outputs": [],
   "source": [
    "import tclab\n",
    "lab = tclab.TCLab()\n",
    "lab.close()"
   ]
  }
 ],
 "metadata": {
  "kernelspec": {
   "display_name": "Python 3",
   "language": "python",
   "name": "python3"
  },
  "language_info": {
   "codemirror_mode": {
    "name": "ipython",
    "version": 3
   },
   "file_extension": ".py",
   "mimetype": "text/x-python",
   "name": "python",
   "nbconvert_exporter": "python",
   "pygments_lexer": "ipython3",
   "version": "3.7.3"
  }
 },
 "nbformat": 4,
 "nbformat_minor": 2
}
