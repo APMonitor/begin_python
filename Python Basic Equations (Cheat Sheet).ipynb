{
 "cells": [
  {
   "cell_type": "raw",
   "metadata": {},
   "source": [
    "MATH\n",
    "+\tAddition: adds two operands\tx + y\n",
    "-\tSubtraction: subtracts two operands\tx - y\n",
    "*\tMultiplication: multiplies two operands\tx * y\n",
    "/\tDivision (float): divides the first operand by the second\tx / y\n",
    "//\tDivision (floor): divides the first operand by the second\tx // y\n",
    "%\tModulus: returns the remainder when first operand is divided by the second\tx % y\n",
    "\n",
    "COMPARE\n",
    ">\tGreater than: True if left operand is greater than the right\tx > y\n",
    "<\tLess than: True if left operand is less than the right\tx < y\n",
    "==\tEqual to: True if both operands are equal\tx == y\n",
    "!=\tNot equal to - True if operands are not equal\tx != y\n",
    ">=\tGreater than or equal to: True if left operand is greater than or equal to the right\tx >= y\n",
    "<=\tLess than or equal to: True if left operand is less than or equal to the right\tx <= y\n",
    "\n",
    "LOGICAL \n",
    "and\tLogical AND: True if both the operands are true\tx and y\n",
    "or\tLogical OR: True if either of the operands is true\tx or y\n",
    "not\tLogical NOT: True if operand is false\tnot x"
   ]
  }
 ],
 "metadata": {
  "kernelspec": {
   "display_name": "Python 3",
   "language": "python",
   "name": "python3"
  },
  "language_info": {
   "codemirror_mode": {
    "name": "ipython",
    "version": 3
   },
   "file_extension": ".py",
   "mimetype": "text/x-python",
   "name": "python",
   "nbconvert_exporter": "python",
   "pygments_lexer": "ipython3",
   "version": "3.7.3"
  }
 },
 "nbformat": 4,
 "nbformat_minor": 2
}
