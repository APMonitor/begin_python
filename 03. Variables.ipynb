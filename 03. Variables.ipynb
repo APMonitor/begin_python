{
 "cells": [
  {
   "cell_type": "markdown",
   "metadata": {},
   "source": [
    "# Variables\n",
    "\n",
    "Variables are something that stores information in python. For example, if you wanted to keep someone’s age, you would type ```jim = 7```. The first part tells what the variable will be called, and the value after the ```=``` tells what is being stored. \n",
    "\n",
    "## Values in Variables\n",
    "There are many types of values but for now, we’ll just go through the basics. You can run the code using the symbol to the left, but in this case the computer won't tell you anything, because you're just storing values.\n",
    "\n",
    "(Pro Tip: Another way to run a cell, select the cell you want to run, it should turn blue, then holding ```Ctrl``` and pressing ```Enter```.)"
   ]
  },
  {
   "cell_type": "markdown",
   "metadata": {},
   "source": [
    "#### Integers\n",
    "Integers, or ```int```, are the value of a basic, whole number like ```9```. "
   ]
  },
  {
   "cell_type": "code",
   "execution_count": 11,
   "metadata": {},
   "outputs": [],
   "source": [
    "temp = 9"
   ]
  },
  {
   "cell_type": "markdown",
   "metadata": {},
   "source": [
    "#### Floats\n",
    "Floats, or ```float```, are basically the same thing, but with decimals like ```4.72```."
   ]
  },
  {
   "cell_type": "code",
   "execution_count": 12,
   "metadata": {},
   "outputs": [],
   "source": [
    "price = 4.72"
   ]
  },
  {
   "cell_type": "markdown",
   "metadata": {},
   "source": [
    "#### Strings\n",
    "Strings, or ```str```, are words or text, usually in english typed like ```\"hi\"```. You can use ```\"\"``` or ```''```."
   ]
  },
  {
   "cell_type": "code",
   "execution_count": 2,
   "metadata": {},
   "outputs": [],
   "source": [
    "greeting = \"hi\""
   ]
  },
  {
   "cell_type": "markdown",
   "metadata": {},
   "source": [
    "#### Boolean\n",
    "Boolean, or ```bool```, is a ```True``` or ```False``` Statement."
   ]
  },
  {
   "cell_type": "code",
   "execution_count": 1,
   "metadata": {},
   "outputs": [],
   "source": [
    "answer = True"
   ]
  },
  {
   "cell_type": "markdown",
   "metadata": {},
   "source": [
    "## Rules of Variables\n",
    "\n",
    "### Variable Naming\n",
    "There are a couple of rules though because python still needs exact commands. In order to properly name a variable, it can only start with a __lowercase letter__ or an __underscore__. Even if you start a variable name right though, you need to continue it the right way. Anything after the first character you can have __any letter__ (including uppercase), __numbers__, and __underscores__. Try running incorrect variables and then fix them to whatever you want."
   ]
  },
  {
   "cell_type": "code",
   "execution_count": 17,
   "metadata": {},
   "outputs": [
    {
     "ename": "SyntaxError",
     "evalue": "invalid syntax (<ipython-input-17-4d475b28555f>, line 2)",
     "output_type": "error",
     "traceback": [
      "\u001b[1;36m  File \u001b[1;32m\"<ipython-input-17-4d475b28555f>\"\u001b[1;36m, line \u001b[1;32m2\u001b[0m\n\u001b[1;33m    ^&@ = 6\u001b[0m\n\u001b[1;37m    ^\u001b[0m\n\u001b[1;31mSyntaxError\u001b[0m\u001b[1;31m:\u001b[0m invalid syntax\n"
     ]
    }
   ],
   "source": [
    "375 = \"Important Data\"\n",
    "^&@ = 6"
   ]
  },
  {
   "cell_type": "markdown",
   "metadata": {},
   "source": [
    "### Variable Usage\n",
    "Variables can be used in math or when you are trying to show a result, which is very useful but they do have restrictions. Different types of value typically can't be combined, such as ```5 + \"degC\"```. This can sometimes be fixed if you really need __5degC__ to be output. All you do is change the value type of ```5``` manually into a __string__, ```str(5) + \"degC\"```. But, you can't turn a __string__ into a __interger__ which makes sense, the letter _n_ for example doesn't have a number that goes with it."
   ]
  },
  {
   "cell_type": "code",
   "execution_count": 1,
   "metadata": {},
   "outputs": [],
   "source": [
    "combined = str(5) + \"degC\""
   ]
  },
  {
   "cell_type": "markdown",
   "metadata": {},
   "source": [
    "## Activity\n",
    "Try making your own variable to store a random piece of information, your siblings name, your age, whatever you like. Then combine the variables, ```x``` and ```y```, below by changing their types to __strings__.\n",
    "\n",
    "(The ```#``` symbol makes the text behind it a comment. Those words are just for discribing the program, they don't do anything to the code.)"
   ]
  },
  {
   "cell_type": "code",
   "execution_count": 4,
   "metadata": {},
   "outputs": [],
   "source": [
    "# Your variable\n",
    "x = True\n",
    "y = 236.4\n",
    "combined = x + y"
   ]
  }
 ],
 "metadata": {
  "kernelspec": {
   "display_name": "Python 3",
   "language": "python",
   "name": "python3"
  },
  "language_info": {
   "codemirror_mode": {
    "name": "ipython",
    "version": 3
   },
   "file_extension": ".py",
   "mimetype": "text/x-python",
   "name": "python",
   "nbconvert_exporter": "python",
   "pygments_lexer": "ipython3",
   "version": "3.7.3"
  }
 },
 "nbformat": 4,
 "nbformat_minor": 2
}
