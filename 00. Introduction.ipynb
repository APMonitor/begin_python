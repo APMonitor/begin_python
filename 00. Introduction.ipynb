{
 "cells": [
  {
   "cell_type": "markdown",
   "metadata": {},
   "source": [
    "### Introduction to Python\n",
    "\n",
    "![python](https://apmonitor.com/che263/uploads/Begin_Python/python.png)\n",
    "\n",
    "Welcome to this introductory course on Python! This course is intended to help you start programming in Python from little or no prior experience. There are video tutorials for each exercise if you have questions along the way.\n",
    "\n",
    "[![Intro to Python](https://apmonitor.com/che263/uploads/Begin_Python/BeginPython00.png)](https://www.youtube.com/watch?v=EO_YpBs8cs0&list=PLLBUgWXdTBDi3J05aMVG1knUpqRhkbc46 \"Introduction to Python\")\n",
    "\n",
    "One of the unique things about this course is that you work on basic elements to help you with a temperature control project. You will see your Python code have a real effect by adjusting heaters to maintain a target temperature, just like a thermostat in a home or office.\n",
    "\n",
    "![temperature](https://apmonitor.com/che263/uploads/Begin_Python/temperature.png)\n",
    "\n",
    "One of the best ways to start or review a programming language is to work on a simple project. These exercises are designed to teach basic Python programming skills to help you design a temperature controller. Temperature control is found in many applications such as home or office HVAC, manufacturing processes, transportation, and life sciences. Even our bodies regulate to a specific temperature.\n",
    "\n",
    "![buildings](https://apmonitor.com/che263/uploads/Begin_Python/buildings.png)\n",
    "\n",
    "This project is to regulate the temperature of the TCLab. Each TCLab has thermochromic (changes color with temperature) paint that turns from black to purple when the temperature reaches the target temperature of 37°C (99°F).\n",
    "\n",
    "![pid control](https://apmonitor.com/pdc/uploads/Main/pid_control.gif)\n",
    "\n",
    "The first thing that you'll need is to install Anaconda and run the Jupyter notebook. [Download Anaconda to use Jupyter](https://www.anaconda.com/distribution/) or [watch a video on how to install it](https://youtu.be/LrMOrMb8-3s).\n",
    "\n",
    "[![Install Anaconda](http://img.youtube.com/vi/LrMOrMb8-3s/0.jpg)](https://www.youtube.com/watch?v=LrMOrMb8-3s \"Install Anaconda\")\n",
    "\n",
    "The video is about how to install Anaconda and a few things you can do with Anaconda. Examples are with Jupyter and Spyder. There are [additional instructions on installing Python and managing modules](https://apmonitor.com/pdc/index.php/Main/InstallPython)."
   ]
  }
 ],
 "metadata": {
  "kernelspec": {
   "display_name": "Python 3",
   "language": "python",
   "name": "python3"
  },
  "language_info": {
   "codemirror_mode": {
    "name": "ipython",
    "version": 3
   },
   "file_extension": ".py",
   "mimetype": "text/x-python",
   "name": "python",
   "nbconvert_exporter": "python",
   "pygments_lexer": "ipython3",
   "version": "3.7.5"
  }
 },
 "nbformat": 4,
 "nbformat_minor": 2
}
