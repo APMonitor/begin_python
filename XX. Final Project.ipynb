{
 "cells": [
  {
   "attachments": {},
   "cell_type": "markdown",
   "metadata": {},
   "source": [
    "## Final Project\n",
    "\n",
    "The final project is to put together all of the basic parts of the course to help you complete a project to design the temperature control for an egg incubator. This is an opportunity for you to review the course material as you use many of the elements that you learned in Lessons 1-12.\n",
    "\n",
    "[![Incubator Project](http://img.youtube.com/vi/5Ry5fKdxNAw/0.jpg)](https://www.youtube.com/watch?v=5Ry5fKdxNAw&list=PLLBUgWXdTBDi3J05aMVG1knUpqRhkbc46 \"Incubator Project\")\n",
    "\n",
    "A good place to start is to create high-level instructions (pseudo-code) on what you want the program to do. Next, start filling in those parts of the code and test each part as you go. The final test is for 10 minutes but use a shorter time (maybe 10 seconds) as you test your code. Good luck!\n",
    "\n",
    "![expert](https://apmonitor.com/che263/uploads/Begin_Python/expert.png)\n",
    "\n",
    "**Objective**: Program the TCLab to maintain the temperature (T1) at 37°C by adjusting the heater (Q1). Display the heater level (Q1) with an LED indicator as the program is adjusting the temperature. Create a plot of the temperature and heater values over a 10 minute evaluation period.\n",
    "\n",
    "![hatch](https://apmonitor.com/che263/uploads/Begin_Python/hatch.png)"
   ]
  },
  {
   "cell_type": "code",
   "execution_count": null,
   "metadata": {},
   "outputs": [],
   "source": []
  }
 ],
 "metadata": {
  "kernelspec": {
   "display_name": "Python 3",
   "language": "python",
   "name": "python3"
  },
  "language_info": {
   "codemirror_mode": {
    "name": "ipython",
    "version": 3
   },
   "file_extension": ".py",
   "mimetype": "text/x-python",
   "name": "python",
   "nbconvert_exporter": "python",
   "pygments_lexer": "ipython3",
   "version": "3.7.5"
  }
 },
 "nbformat": 4,
 "nbformat_minor": 2
}
