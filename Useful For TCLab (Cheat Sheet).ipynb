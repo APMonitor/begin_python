{
 "cells": [
  {
   "cell_type": "markdown",
   "metadata": {},
   "source": [
    "# TCLab Cheat Sheet\n",
    "\n",
    "#### LED\n",
    "```lab.LED()``` Percentage of output light for __Hot__ Light\n",
    "\n",
    "#### Heaters\n",
    "```lab.Q1()``` and ```lab.Q2()``` Percentage of power to heaters\n",
    "\n",
    "#### Temperture Readers\n",
    "```lab.T1()``` and ```lab.T2()``` Value of current heater tempertures"
   ]
  }
 ],
 "metadata": {
  "kernelspec": {
   "display_name": "Python 3",
   "language": "python",
   "name": "python3"
  },
  "language_info": {
   "codemirror_mode": {
    "name": "ipython",
    "version": 3
   },
   "file_extension": ".py",
   "mimetype": "text/x-python",
   "name": "python",
   "nbconvert_exporter": "python",
   "pygments_lexer": "ipython3",
   "version": "3.7.3"
  }
 },
 "nbformat": 4,
 "nbformat_minor": 2
}
