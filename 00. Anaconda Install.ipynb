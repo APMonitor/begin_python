{
 "cells": [
  {
   "cell_type": "markdown",
   "metadata": {},
   "source": [
    "# Anaconda Install\n",
    "### If you're reading this from the downloaded version off github and you're running this with Jupyter, you can skip this lesson.\n",
    "\n",
    "## [Download Anaconda to use Jupyter](https://docs.anaconda.com/anaconda/install/) or [watch a video on how to do it](https://youtu.be/LrMOrMb8-3s).\n",
    "### (Please use the two links above if you want to use the downloaded files, from [github](https://github.com/BaconBomber/BeginnersTCLab), but can't run Jupyter. Jupyter is a program run from [Anaconda](https://www.anaconda.com/))"
   ]
  },
  {
   "cell_type": "code",
   "execution_count": 2,
   "metadata": {},
   "outputs": [
    {
     "name": "stderr",
     "output_type": "stream",
     "text": [
      "C:\\Users\\eric\\Anaconda3\\lib\\site-packages\\IPython\\core\\display.py:689: UserWarning: Consider using IPython.display.IFrame instead\n",
      "  warnings.warn(\"Consider using IPython.display.IFrame instead\")\n"
     ]
    },
    {
     "data": {
      "text/html": [
       "<iframe width=\"560\" height=\"315\" src=\"https://www.youtube.com/embed/LrMOrMb8-3s\" \f",
       "rameborder=\"0\" allow=\"autoplay; encrypted-media\" allowfullscreen></iframe>"
      ],
      "text/plain": [
       "<IPython.core.display.HTML object>"
      ]
     },
     "metadata": {},
     "output_type": "display_data"
    }
   ],
   "source": [
    "from IPython.core.display import display, HTML\n",
    "def video(key):\n",
    "    display(HTML('<iframe width=\"560\" height=\"315\" src=\"https://www.youtube.com/embed/'+key+'\" \\frameborder=\"0\" allow=\"autoplay; encrypted-media\" allowfullscreen></iframe>'))\n",
    "\n",
    "video('LrMOrMb8-3s')"
   ]
  }
 ],
 "metadata": {
  "kernelspec": {
   "display_name": "Python 3",
   "language": "python",
   "name": "python3"
  },
  "language_info": {
   "codemirror_mode": {
    "name": "ipython",
    "version": 3
   },
   "file_extension": ".py",
   "mimetype": "text/x-python",
   "name": "python",
   "nbconvert_exporter": "python",
   "pygments_lexer": "ipython3",
   "version": "3.7.3"
  }
 },
 "nbformat": 4,
 "nbformat_minor": 2
}
