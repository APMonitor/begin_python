{
 "cells": [
  {
   "cell_type": "markdown",
   "metadata": {},
   "source": [
    "# Objects\n",
    "Objects are created to represent something. For the Temperture Control Kit, it's object is usually named _lab_. You can name objects the name that you will remember and that are easy to type. You use a variable to create an object.\n",
    "\n",
    "```python\n",
    "lab = tclab.TCLab()\n",
    "```"
   ]
  },
  {
   "cell_type": "markdown",
   "metadata": {},
   "source": [
    "## Explanation \n",
    "The first part of an object is what you are naming it. The second part, ```tclab```, goes into the downloaded package called tclab. Then it looks for and uses ```TCLab``` to connect with your tclab. The ```.``` makes it look in the folder, and the ```()``` tells the computer it's an object to create."
   ]
  },
  {
   "cell_type": "markdown",
   "metadata": {},
   "source": [
    "### Install Temperature Control Lab\n",
    "This code installs a program that will let you use your Temperature Control Kit."
   ]
  },
  {
   "cell_type": "code",
   "execution_count": null,
   "metadata": {},
   "outputs": [],
   "source": [
    "# install tclab\n",
    "try:\n",
    "    import tclab\n",
    "except:\n",
    "    !pip install --user pyserial # Needed to communicate through usb port\n",
    "    !pip install --user tclab\n",
    "    import tclab"
   ]
  },
  {
   "cell_type": "markdown",
   "metadata": {},
   "source": [
    "This object is what allows you to connect with the kit, make it do things. In the next lesson we will go over the basics of what this temperture control kit can really do. Now try running and creating the object from above. Now if tclab is installed and imported, it should connect. Don't worry if this is confusing, all of it will be explained, next lesson."
   ]
  },
  {
   "cell_type": "code",
   "execution_count": 1,
   "metadata": {},
   "outputs": [
    {
     "name": "stdout",
     "output_type": "stream",
     "text": [
      "TCLab version 0.4.9\n",
      "Could not connect at high speed, but succeeded at low speed.\n",
      "This may be due to an old TCLab firmware.\n",
      "New Arduino TCLab firmware available at:\n",
      "https://github.com/jckantor/TCLab-sketch\n",
      "NHduino connected on port COM6 at 9600 baud.\n",
      "TCLab Firmware Version 1.01.\n",
      "TCLab disconnected successfully.\n"
     ]
    }
   ],
   "source": [
    "import tclab # Imported Package\n",
    "lab = tclab.TCLab() # Object that connects with the kit\n",
    "lab.close() # Disconnects with the Lab"
   ]
  }
 ],
 "metadata": {
  "kernelspec": {
   "display_name": "Python 3",
   "language": "python",
   "name": "python3"
  },
  "language_info": {
   "codemirror_mode": {
    "name": "ipython",
    "version": 3
   },
   "file_extension": ".py",
   "mimetype": "text/x-python",
   "name": "python",
   "nbconvert_exporter": "python",
   "pygments_lexer": "ipython3",
   "version": "3.7.3"
  }
 },
 "nbformat": 4,
 "nbformat_minor": 2
}
