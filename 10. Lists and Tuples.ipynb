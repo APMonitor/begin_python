{
 "cells": [
  {
   "cell_type": "markdown",
   "metadata": {},
   "source": [
    "# Lists\n",
    "Lists are a way of storing lots of information, and different types of information, in just one __variable__."
   ]
  },
  {
   "cell_type": "code",
   "execution_count": 14,
   "metadata": {},
   "outputs": [
    {
     "name": "stdout",
     "output_type": "stream",
     "text": [
      "['Leghorn', 'Barnevelder', 'Plymouth Rock', 23, False]\n"
     ]
    }
   ],
   "source": [
    "chickens = [\"Leghorn\", 'Barnevelder', 'Plymouth Rock', 23, False]\n",
    "print(chickens)"
   ]
  },
  {
   "cell_type": "markdown",
   "metadata": {},
   "source": [
    "You can have a list in a list."
   ]
  },
  {
   "cell_type": "code",
   "execution_count": 15,
   "metadata": {},
   "outputs": [
    {
     "name": "stdout",
     "output_type": "stream",
     "text": [
      "['Leghorn', [True, 42], 'Barnevelder', 'Plymouth Rock']\n"
     ]
    }
   ],
   "source": [
    "chickens = ['Leghorn', [True, 42],'Barnevelder', \"Plymouth Rock\"]\n",
    "print(chickens)"
   ]
  },
  {
   "cell_type": "markdown",
   "metadata": {},
   "source": [
    "You can change one of the values in a list or print just one value. Remember how ```for``` loops start at 0? These do too."
   ]
  },
  {
   "cell_type": "code",
   "execution_count": 17,
   "metadata": {},
   "outputs": [
    {
     "name": "stdout",
     "output_type": "stream",
     "text": [
      "['Ancona', 'Plymouth Rock']\n",
      "Plymouth Rock\n"
     ]
    }
   ],
   "source": [
    "chickens = ['Leghorn', \"Barnevelder\", 'Plymouth Rock']\n",
    "chickens[0] = 'Ancona' # Replaces Leghorn with Ancona\n",
    "del chickens[1] # Deletes the second value\n",
    "print(chickens)\n",
    "print(chickens[1])"
   ]
  },
  {
   "cell_type": "markdown",
   "metadata": {},
   "source": [
    "You can also use them in a ```for``` loop."
   ]
  },
  {
   "cell_type": "code",
   "execution_count": 3,
   "metadata": {},
   "outputs": [
    {
     "name": "stdout",
     "output_type": "stream",
     "text": [
      "Leghorn\n",
      "Barnevelder\n",
      "Plymouth Rock\n"
     ]
    }
   ],
   "source": [
    "chickens = [\"Leghorn\", 'Barnevelder', 'Plymouth Rock']\n",
    "\n",
    "for i in chickens:\n",
    "    print(i)"
   ]
  },
  {
   "cell_type": "markdown",
   "metadata": {},
   "source": [
    "You can even do a for loop of a list with if statements inside.\n",
    "\n",
    "(The == symbol is comparing two values. If they are the same it will be ```True```.)"
   ]
  },
  {
   "cell_type": "code",
   "execution_count": 5,
   "metadata": {},
   "outputs": [
    {
     "name": "stdout",
     "output_type": "stream",
     "text": [
      "Ancona\n",
      "Barnevelder\n",
      "Plymouth Rock\n"
     ]
    }
   ],
   "source": [
    "chickens = [\"Leghorn\", 'Barnevelder', 'Plymouth Rock']\n",
    "\n",
    "for i in chickens:\n",
    "    if i == 'Leghorn':\n",
    "        print(\"Ancona\")\n",
    "    else:\n",
    "        print(i)"
   ]
  },
  {
   "cell_type": "markdown",
   "metadata": {},
   "source": [
    "There are many more ways to use lists than these examples and all of them are online."
   ]
  },
  {
   "cell_type": "markdown",
   "metadata": {},
   "source": [
    "# Tuples\n",
    "Tuples are pretty much the same thing as lists, but can't change just one value as the list just did above. They use ```()``` to surrond their values in stead of ```[]``` for lists.\n",
    "\n",
    "So you can't do something like this to them or you will get an error.\n",
    "```python\n",
    "chickens[0] = 'Ancona'\n",
    "```"
   ]
  },
  {
   "cell_type": "code",
   "execution_count": 9,
   "metadata": {},
   "outputs": [
    {
     "name": "stdout",
     "output_type": "stream",
     "text": [
      "('Leghorn', 'Barnevelder', 'Plymouth Rock')\n"
     ]
    }
   ],
   "source": [
    "chickens = (\"Leghorn\", 'Barnevelder', 'Plymouth Rock')\n",
    "print(chickens)"
   ]
  },
  {
   "cell_type": "markdown",
   "metadata": {},
   "source": [
    "You can see this gets very complicated, pretty fast, with almost endless examples of what you can combine with what you've learned so far from previous lessons. You don't want a ton of lessons going over every example, so the best way to use this knowledge of when to use them. So if you get stuck, review the basics again, even on another python course, and break it down into smaller tasks like we talked about in the __Debugging__ lesson."
   ]
  },
  {
   "cell_type": "markdown",
   "metadata": {},
   "source": [
    "## Activity\n",
    "Make a for loop that uses at least 10 values, stored in a list, of your choice to turn on the LED light and both heaters. It should end with 0 to make sure the light and heaters are off. Make sure their is an one second break in between each light change, and print out the tempertures."
   ]
  },
  {
   "cell_type": "code",
   "execution_count": null,
   "metadata": {},
   "outputs": [],
   "source": []
  }
 ],
 "metadata": {
  "kernelspec": {
   "display_name": "Python 3",
   "language": "python",
   "name": "python3"
  },
  "language_info": {
   "codemirror_mode": {
    "name": "ipython",
    "version": 3
   },
   "file_extension": ".py",
   "mimetype": "text/x-python",
   "name": "python",
   "nbconvert_exporter": "python",
   "pygments_lexer": "ipython3",
   "version": "3.7.3"
  }
 },
 "nbformat": 4,
 "nbformat_minor": 2
}
