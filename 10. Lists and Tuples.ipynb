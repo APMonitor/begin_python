{
 "cells": [
  {
   "cell_type": "markdown",
   "metadata": {},
   "source": [
    "## 10. Lists\n",
    "\n",
    "![list](https://apmonitor.com/che263/uploads/Begin_Python/list.png)\n",
    "\n",
    "Lists are a way of storing a sequence of values and possibly different types of information in just one __variable__.\n",
    "\n",
    "[Python Playlist on YouTube](https://www.youtube.com/watch?v=1CPP8aB-8WU&list=PLLBUgWXdTBDi3J05aMVG1knUpqRhkbc46)",
    "\n",
    "[![Lists and Tuples](https://apmonitor.com/che263/uploads/Begin_Python/BeginPython10.png)](https://www.youtube.com/watch?v=1CPP8aB-8WU&list=PLLBUgWXdTBDi3J05aMVG1knUpqRhkbc46 \"Lists and Tuples\")\n",
    "\n",
    "This is shown below, by using brackets \\[ ]. You could use lists, for an incubator, to keep information on which chickens are in different eggs. You could also use them to store a previous temperature of the incubator.\n",
    "\n",
    "![chickens](https://apmonitor.com/che263/uploads/Begin_Python/chickens.png)"
   ]
  },
  {
   "cell_type": "code",
   "execution_count": null,
   "metadata": {},
   "outputs": [],
   "source": [
    "chickens = [\"Leghorn\", 'Barnevelder', 'Plymouth Rock', 23, False]\n",
    "print(chickens)"
   ]
  },
  {
   "cell_type": "markdown",
   "metadata": {},
   "source": [
    "You can also have a list in a list."
   ]
  },
  {
   "cell_type": "code",
   "execution_count": null,
   "metadata": {},
   "outputs": [],
   "source": [
    "chickens = ['Leghorn', [True, 42],'Barnevelder', \"Plymouth Rock\"]\n",
    "print(chickens)"
   ]
  },
  {
   "cell_type": "markdown",
   "metadata": {},
   "source": [
    "You can change one of the values in a list or print just one value. Remember how ```for``` loops start at `0`? A list index also starts at `0`."
   ]
  },
  {
   "cell_type": "code",
   "execution_count": null,
   "metadata": {},
   "outputs": [],
   "source": [
    "chickens = ['Leghorn', \"Barnevelder\", 'Plymouth Rock']\n",
    "chickens[0] = 'Ancona' # Replaces Leghorn with Ancona\n",
    "del chickens[1] # Deletes the second value\n",
    "print(chickens)\n",
    "print(chickens[1])"
   ]
  },
  {
   "cell_type": "markdown",
   "metadata": {},
   "source": [
    "You can also use a list to iterate with a ```for``` loop."
   ]
  },
  {
   "cell_type": "code",
   "execution_count": null,
   "metadata": {},
   "outputs": [],
   "source": [
    "chickens = [\"Leghorn\", 'Barnevelder', 'Plymouth Rock']\n",
    "\n",
    "for i in chickens:\n",
    "    print(i)"
   ]
  },
  {
   "cell_type": "markdown",
   "metadata": {},
   "source": [
    "You can even do a `for` loop of a list with `if` statements inside.\n",
    "\n",
    "(The == symbol is comparing two values. If they are the same it will be ```True```.)"
   ]
  },
  {
   "cell_type": "code",
   "execution_count": null,
   "metadata": {},
   "outputs": [],
   "source": [
    "chickens = [\"Leghorn\", 'Barnevelder', 'Plymouth Rock']\n",
    "\n",
    "for i in chickens:\n",
    "    if i == 'Leghorn':\n",
    "        print(\"Ancona\")\n",
    "    else:\n",
    "        print(i)"
   ]
  },
  {
   "cell_type": "markdown",
   "metadata": {},
   "source": [
    "**Useful List Functions**\n",
    "\n",
    "There are many more ways to use lists than these examples and all of them are online. Some of these include ```listName.append()```, ```listName.extend()```, and much more. Run this code to see what the ```.append()``` function does."
   ]
  },
  {
   "cell_type": "code",
   "execution_count": null,
   "metadata": {},
   "outputs": [],
   "source": [
    "myList = [\"yes\", \"no\"]\n",
    "\n",
    "myList.append(\"maybe\")\n",
    "\n",
    "print(myList)"
   ]
  },
  {
   "cell_type": "markdown",
   "metadata": {},
   "source": [
    "**Assigning New Values**\n",
    "\n",
    "After you get all of your data points in a list, one way to execute the same equation to all values in a list is shown below. This can be very useful, for example if you wanted to turn your data points from Celcius to Fahrenheit. The example below shows a way to convert a whole list of values from Celcius to Fahrenheit."
   ]
  },
  {
   "cell_type": "code",
   "execution_count": null,
   "metadata": {},
   "outputs": [],
   "source": [
    "data_celsius = [24, 21, 26, 30, 20] # List of Celsius temperature values\n",
    "\n",
    "data_fahrenheit = [i*(9/5) + 32 for i in data_celsius] # This converts to Fahrenheit\n",
    "\n",
    "formatted_data = [\"%.2f\" % i for i in data_fahrenheit] # This formats the data points to 2 decimal places\n",
    "\n",
    "print(formatted_data)\n",
    "\n",
    "for i in data_fahrenheit:\n",
    "    print(\"%.1f\" % i) # Prints out each data point to 1 decimal place"
   ]
  },
  {
   "cell_type": "markdown",
   "metadata": {},
   "source": [
    "**Tuples**\n",
    "\n",
    "Tuples similar to lists, but they aren't designed to change values like in a list. They use ```()``` to surround their values instead of ```[]``` for lists. You can't add a value like this or you will get an error.\n",
    "```python\n",
    "chickens[0] = 'Ancona'\n",
    "```"
   ]
  },
  {
   "cell_type": "code",
   "execution_count": null,
   "metadata": {},
   "outputs": [],
   "source": [
    "chickens = (\"Leghorn\", 'Barnevelder', 'Plymouth Rock')\n",
    "print(chickens)"
   ]
  },
  {
   "cell_type": "markdown",
   "metadata": {},
   "source": [
    "### Activity\n",
    "\n",
    "![expert](https://apmonitor.com/che263/uploads/Begin_Python/expert.png)\n",
    "\n",
    "Use user input to add temperature values to a list with the ```.append()``` function. One temperature value is collected each second for 20 seconds. If you see an error `You already have an open connection` then restart your Python kernel."
   ]
  },
  {
   "cell_type": "code",
   "execution_count": null,
   "metadata": {},
   "outputs": [],
   "source": [
    "import tclab\n",
    "import time\n",
    "\n",
    "lab = tclab.TCLab()\n",
    "\n",
    "# initialize lists\n",
    "tm = []\n",
    "T1 = []\n",
    "\n",
    "# turn on heater 1\n",
    "lab.Q1(60)\n",
    "\n",
    "for i in range(20):\n",
    "    tm.append(i)\n",
    "    print(i,lab.T1)\n",
    "    # store the new temperature in the list T1 with .append()\n",
    "\n",
    "    time.sleep(1)\n",
    "\n",
    "print(T1)\n",
    "lab.close()"
   ]
  },
  {
   "cell_type": "markdown",
   "metadata": {},
   "source": [
    "Make a ```for``` loop that uses at least **5 values**, stored in a ```list```, of your choice to turn on the __LED light__ and __both heaters__. It should end with **0** to make sure the light **and** heaters are off. \n",
    "\n",
    "Make sure there is a **3 second** break in between each light and heater changes, and print out the temperatures from the heaters every time the program loops."
   ]
  },
  {
   "cell_type": "code",
   "execution_count": null,
   "metadata": {},
   "outputs": [],
   "source": [
    "my_List = [\"5 different numbers\", 0] # Put 5 numbers in this list, last one should be zero"
   ]
  }
 ],
 "metadata": {
  "kernelspec": {
   "display_name": "Python 3",
   "language": "python",
   "name": "python3"
  },
  "language_info": {
   "codemirror_mode": {
    "name": "ipython",
    "version": 3
   },
   "file_extension": ".py",
   "mimetype": "text/x-python",
   "name": "python",
   "nbconvert_exporter": "python",
   "pygments_lexer": "ipython3",
   "version": "3.7.4"
  }
 },
 "nbformat": 4,
 "nbformat_minor": 2
}
