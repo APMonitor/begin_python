{
 "cells": [
  {
   "cell_type": "markdown",
   "metadata": {},
   "source": [
    "# Lists\n",
    "Lists are a way of storing lots of information, and different types of information, in just one __variable__. This is shown down below, by using brackets \\[ ]. You could use lists, for an incubator, to keep information on which chickens you have in different eggs. You could also use them to store previous temperatures the incubator had reached."
   ]
  },
  {
   "cell_type": "code",
   "execution_count": null,
   "metadata": {},
   "outputs": [],
   "source": [
    "chickens = [\"Leghorn\", 'Barnevelder', 'Plymouth Rock', 23, False]\n",
    "print(chickens)"
   ]
  },
  {
   "cell_type": "markdown",
   "metadata": {},
   "source": [
    "You can have a list in a list."
   ]
  },
  {
   "cell_type": "code",
   "execution_count": null,
   "metadata": {},
   "outputs": [],
   "source": [
    "chickens = ['Leghorn', [True, 42],'Barnevelder', \"Plymouth Rock\"]\n",
    "print(chickens)"
   ]
  },
  {
   "cell_type": "markdown",
   "metadata": {},
   "source": [
    "You can change one of the values in a list or print just one value. Remember how ```for``` loops start at 0? These do too."
   ]
  },
  {
   "cell_type": "code",
   "execution_count": null,
   "metadata": {},
   "outputs": [],
   "source": [
    "chickens = ['Leghorn', \"Barnevelder\", 'Plymouth Rock']\n",
    "chickens[0] = 'Ancona' # Replaces Leghorn with Ancona\n",
    "del chickens[1] # Deletes the second value\n",
    "print(chickens)\n",
    "print(chickens[1])"
   ]
  },
  {
   "cell_type": "markdown",
   "metadata": {},
   "source": [
    "You can also use them in a ```for``` loop."
   ]
  },
  {
   "cell_type": "code",
   "execution_count": null,
   "metadata": {},
   "outputs": [],
   "source": [
    "chickens = [\"Leghorn\", 'Barnevelder', 'Plymouth Rock']\n",
    "\n",
    "for i in chickens:\n",
    "    print(i)"
   ]
  },
  {
   "cell_type": "markdown",
   "metadata": {},
   "source": [
    "You can even do a for loop of a list with if statements inside.\n",
    "\n",
    "(The == symbol is comparing two values. If they are the same it will be ```True```.)"
   ]
  },
  {
   "cell_type": "code",
   "execution_count": null,
   "metadata": {},
   "outputs": [],
   "source": [
    "chickens = [\"Leghorn\", 'Barnevelder', 'Plymouth Rock']\n",
    "\n",
    "for i in chickens:\n",
    "    if i == 'Leghorn':\n",
    "        print(\"Ancona\")\n",
    "    else:\n",
    "        print(i)"
   ]
  },
  {
   "cell_type": "markdown",
   "metadata": {},
   "source": [
    "### Useful List Functions\n",
    "There are many more ways to use lists than these examples and all of them are online. Some of these include ```listName.append()```, ```listName.extend()```, and much more.\n",
    "\n",
    "Run this code to see what the ```.append``` function does."
   ]
  },
  {
   "cell_type": "code",
   "execution_count": null,
   "metadata": {},
   "outputs": [],
   "source": [
    "myList = [\"yes\", \"no\"]\n",
    "\n",
    "myList.append(\"maybe\")\n",
    "\n",
    "print(myList)"
   ]
  },
  {
   "cell_type": "markdown",
   "metadata": {},
   "source": [
    "### Assigning New Values\n",
    "After you get all of your data points in a list, one way to execute the same equation to all values in a list is shown below. This can be very useful, for example if you wanted to turn your data points from celcius to fahrenheit.\n",
    "\n",
    "The example below shows a way to convert a whole list of values from Celcius to Fahrenheit."
   ]
  },
  {
   "cell_type": "code",
   "execution_count": null,
   "metadata": {},
   "outputs": [],
   "source": [
    "data_celcius = [24, 21, 26, 30, 20] # List of Celius temperature values\n",
    "\n",
    "data_fahrenheit = [i*(9/5) + 32 for i in data_celcius] # This combines for loops into a list, with fahrenheit equation\n",
    "\n",
    "formatted_data = [\"%.2f\" % i for i in data_fahrenheit] # This formats the data points to 2 decimal places\n",
    "\n",
    "print(formatted_data)\n",
    "\n",
    "for i in data_fahrenheit:\n",
    "    print(\"%.1f\" % i) # Prints out each data point to 1 decimal place"
   ]
  },
  {
   "cell_type": "markdown",
   "metadata": {},
   "source": [
    "# Tuples\n",
    "Tuples are pretty much the same thing as lists, but can't change just one value as the list just did above. They use ```()``` to surround their values instead of ```[]``` for lists.\n",
    "\n",
    "So you can't do something like this to them or you will get an error.\n",
    "```python\n",
    "chickens[0] = 'Ancona'\n",
    "```"
   ]
  },
  {
   "cell_type": "code",
   "execution_count": null,
   "metadata": {},
   "outputs": [],
   "source": [
    "chickens = (\"Leghorn\", 'Barnevelder', 'Plymouth Rock')\n",
    "print(chickens)"
   ]
  },
  {
   "cell_type": "markdown",
   "metadata": {},
   "source": [
    "## Activity\n",
    "Use user input to add values to a list with the ```.append()``` function. \n",
    "```python\n",
    "yourList = []\n",
    "yourList.append(input(\"Enter a value \")) # This adds a value to the back of a list``` \n",
    "\n",
    "Your code should ask how many values you want to add, then add all the numbers that are input in a function. Print out the added result."
   ]
  },
  {
   "cell_type": "code",
   "execution_count": null,
   "metadata": {},
   "outputs": [],
   "source": [
    "def adding():\n",
    "    \n",
    "list1 = []"
   ]
  },
  {
   "cell_type": "markdown",
   "metadata": {},
   "source": [
    "Make a ```for``` loop that uses at least **10 values**, stored in a ```list```, of your choice to turn on the __LED light__ and __both heaters__. It should end with **0** to make sure the light **and** heaters are off. \n",
    "\n",
    "Make sure there is a **3 second** break in between each light and heater changes, and print out the temperatures from the heaters every time the program loops."
   ]
  },
  {
   "cell_type": "code",
   "execution_count": null,
   "metadata": {},
   "outputs": [],
   "source": [
    "my_List = [\"9 different numbers\", 0] # Put 10 numbers in this list, last one should be zero"
   ]
  }
 ],
 "metadata": {
  "kernelspec": {
   "display_name": "Python 3",
   "language": "python",
   "name": "python3"
  },
  "language_info": {
   "codemirror_mode": {
    "name": "ipython",
    "version": 3
   },
   "file_extension": ".py",
   "mimetype": "text/x-python",
   "name": "python",
   "nbconvert_exporter": "python",
   "pygments_lexer": "ipython3",
   "version": "3.7.3"
  }
 },
 "nbformat": 4,
 "nbformat_minor": 2
}
