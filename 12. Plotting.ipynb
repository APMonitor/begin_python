{
 "cells": [
  {
   "cell_type": "markdown",
   "metadata": {},
   "source": [
    "## 12. Plotting\n",
    "\n",
    "![list](https://apmonitor.com/che263/uploads/Begin_Python/list.png)\n",
    "\n",
    "A plot is a visual representation of the data and is especially valuable to analyze data graphically. You can plot with the ```matplotlib``` package.\n",
    "\n",
    "[![Plots](https://apmonitor.com/che263/uploads/Begin_Python/BeginPython12.png)](https://www.youtube.com/watch?v=yyLqmP1AEuU&list=PLLBUgWXdTBDi3J05aMVG1knUpqRhkbc46 \"Plots\")\n",
    "\n",
    "In the incubator example, we may want to see how the temperature changes with time. The ```x```-axis may be __time__ and ```y```-axis may be the __data__. In an incubator, graphs could be used for a number of things. Some could be heater percentage, egg temperature, and much more.\n",
    "\n",
    "In the code below, graphs can have lines that are formatted as dashed lines:\n",
    "```python\n",
    "plt.plot(x,y,'r--')```\n",
    "\n",
    "Changing values for ```x``` and ```y``` will change the points that are plotted for the lines. The ```r``` states that a certain line is red, and the ```--``` tells that the same line is also dashed. You can get more line modifiers in the file *Basic Python Equations*, or scroll down to the help command."
   ]
  },
  {
   "cell_type": "code",
   "execution_count": null,
   "metadata": {},
   "outputs": [],
   "source": [
    "import matplotlib.pyplot as plt # shorten to plt\n",
    "%matplotlib inline \n",
    "\n",
    "x = [1, 2, 3, 4] # Times\n",
    "\n",
    "y = [3, 4, 2, 6] # List with data\n",
    "z = [5, 1, 8, 3] # List with data\n",
    "\n",
    "plt.plot(x,y) # Plots a graph with the list\n",
    "plt.plot(x,z,'r--') # 'r--' changes line to red, and to a dashed line\n",
    "plt.show() # Outputs graph"
   ]
  },
  {
   "cell_type": "markdown",
   "metadata": {},
   "source": [
    "### Help Command"
   ]
  },
  {
   "cell_type": "markdown",
   "metadata": {},
   "source": [
    "![idea](https://apmonitor.com/che263/uploads/Begin_Python/idea.png)\n",
    "\n",
    "You can see all available functions by running the code ```help(plt.plot)``` (run after you import matplotlib) or find functions in the file *Python Basic Knowledge*. You can also use the ```help()``` for any other function in python."
   ]
  },
  {
   "cell_type": "code",
   "execution_count": null,
   "metadata": {},
   "outputs": [],
   "source": [
    "help(plt.plot)"
   ]
  },
  {
   "cell_type": "markdown",
   "metadata": {},
   "source": [
    "### Activity\n",
    "\n",
    "![expert](https://apmonitor.com/che263/uploads/Begin_Python/expert.png)\n",
    "\n",
    "Make a plot using 3 lines with 5 data points each.\n",
    "\n",
    "```python\n",
    "time = [1, 2, 3, 4, 5]\n",
    "x = [5,4,0,2,3]\n",
    "y = [3,-1,4,6,8]\n",
    "z = [1,2,4,8,9]\n",
    "```\n",
    "\n",
    "Use this data to plot (time, x), (time,y), and (time,z). Use the plotting examples or the plotting help above if you need help."
   ]
  },
  {
   "cell_type": "code",
   "execution_count": null,
   "metadata": {},
   "outputs": [],
   "source": [
    "import matplotlib.pyplot as plt\n",
    "\n",
    "time = [1, 2, 3, 4, 5]\n",
    "x = [5,4,0,2,3]\n",
    "y = [3,-1,4,6,8]\n",
    "z = [1,2,4,8,9]"
   ]
  },
  {
   "cell_type": "markdown",
   "metadata": {},
   "source": [
    "**Customizing Plots**\n",
    "\n",
    "Plots are customized with labels (x-label, y-label, title, legend) with more lines of code such as:\n",
    "\n",
    "```python\n",
    "plt.xlabel()  # add x-label\n",
    "plt.ylabel()  # add y-label\n",
    "plt.title()   # add title\n",
    "plt.legend()  # add legend\n",
    "```\n",
    "\n",
    "There are other ways to modify the plot such as adjusting the range of `y` values (`plt.ylim()`) or range of `x` values (`plt.xlim()`). Each function modifies the plot and they can be used in any order. \n",
    "\n",
    "You can also create sub-plots by first telling what grid size you'd like to use. In this case, we have 2 rows and 1 column with:\n",
    "\n",
    "```python\n",
    "plt.subplot(2,1,1)\n",
    "```\n",
    "\n",
    "The third number (1) indicates that we are now plotting in the first sub-plot on top. When we give another command:\n",
    "\n",
    "```python\n",
    "plt.subplot(2,1,2)\n",
    "```\n",
    "\n",
    "to begin making modifications to the bottom subplot. There are many examples that can be used as a template for creating [custom plots](https://matplotlib.org/gallery.html)."
   ]
  },
  {
   "cell_type": "markdown",
   "metadata": {},
   "source": [
    "**Exporting Plots**\n",
    "\n",
    "Plots can be exported as a static figure or animated to create a movie.\n",
    "\n",
    "![MPC MIMO](https://apmonitor.com/do/uploads/Main/mpc_mimo_tclab.gif)\n",
    "\n",
    "A plot is exported by using the function:\n",
    "\n",
    "```python\n",
    "plt.savefig('FileName.png')\n",
    "```\n",
    "\n",
    "(Common file extensions for export are `.png`, `.jpg`, and `.eps`. Changing the name of the file extension changes the type and size of the file export. Portable Network Graphics(`.png`) files work well for import into a presentation or into a report document.)"
   ]
  },
  {
   "cell_type": "markdown",
   "metadata": {},
   "source": [
    "#### Where did it save the file?\n",
    "\n",
    "Sometimes it can be hard to find the directory where Python saved the figure. You can display your current run folder by running the following Python cell."
   ]
  },
  {
   "cell_type": "code",
   "execution_count": null,
   "metadata": {},
   "outputs": [],
   "source": [
    "import os\n",
    "print(\"Figure saved in current directory: \" + os.getcwd())"
   ]
  },
  {
   "cell_type": "markdown",
   "metadata": {},
   "source": [
    "### Activity\n",
    "\n",
    "![expert](https://apmonitor.com/che263/uploads/Begin_Python/expert.png)\n",
    "\n",
    "Try the code below to add a title, x-label, and y-label. \n",
    "\n",
    "Adjust the `y` range to be between `-1` and `1.2`. Adjust the `x` range to be between `0` and `6`.\n",
    "\n",
    "The legend (`plt.legend`) gets values to run from lines `plt.plot(label='Your label')`.\n",
    "\n",
    "**Bonus:** Split the two plots into two subplots. "
   ]
  },
  {
   "cell_type": "code",
   "execution_count": null,
   "metadata": {},
   "outputs": [],
   "source": [
    "import matplotlib.pyplot as plt\n",
    "import numpy as np\n",
    "\n",
    "x = np.linspace(0,6,100) # First value is starting point, next is end point, and last is how many points in between\n",
    "y = np.sin(x)\n",
    "z = np.cos(x)\n",
    "\n",
    "plt.title('Put title here') # Add a title\n",
    "\n",
    "plt.plot(x,y, 'r--', linewidth=3, label='y=sin(x)') # linewidth modifies the width of a line\n",
    "plt.plot(x,z, 'k:', linewidth=2, label='What is a good label?') # label gives the line a label\n",
    "\n",
    "plt.legend() # Values given to legend comes from label='Your label' in lines above\n",
    "\n",
    "plt.xlim([0, 3]) # Set the x range: 0 to 6\n",
    "plt.ylim([-1.5, 1.5]) # Set the y range: -1 to 1.2\n",
    "\n",
    "plt.ylabel('Change y label')\n",
    "plt.xlabel('Change x label')\n",
    "\n",
    "plt.show()"
   ]
  },
  {
   "cell_type": "markdown",
   "metadata": {},
   "source": [
    "Make a plot that comes from the lab's temperatures, 30 seconds of data. The code below sets heater one to 70 percent and heater two to 100 percent. It collects data for 30 seconds in the lists `tm`=Time, `T1`=Temperature 1, and `T2`=Temperature 2."
   ]
  },
  {
   "cell_type": "code",
   "execution_count": null,
   "metadata": {},
   "outputs": [],
   "source": [
    "import tclab\n",
    "import time\n",
    "\n",
    "lab = tclab.TCLab()\n",
    "\n",
    "# initialize lists\n",
    "tm = []\n",
    "T1 = []\n",
    "T2 = []\n",
    "\n",
    "# turn on heater 1\n",
    "lab.Q1(70); lab.Q2(100)\n",
    "\n",
    "# collect data for 30 seconds\n",
    "for i in range(30):\n",
    "    tm.append(i)\n",
    "    T1.append(lab.T1)\n",
    "    T2.append(lab.T2)\n",
    "    print(tm[i],T1[i],T2[i])\n",
    "    time.sleep(1)\n",
    "lab.close()"
   ]
  },
  {
   "cell_type": "markdown",
   "metadata": {},
   "source": [
    "Make the plotting lines modified to your liking. Because you're using two heaters, you should have two lines to represent the two temperatures."
   ]
  },
  {
   "cell_type": "code",
   "execution_count": null,
   "metadata": {},
   "outputs": [],
   "source": [
    "import matplotlib.pyplot as plt\n",
    "%matplotlib inline\n",
    "\n",
    "plt.plot(tm,T1,'r--',label='T1')\n",
    "# add plot for temperature 2\n",
    "\n",
    "plt.legend()\n",
    "plt.xlabel('Add x-label')\n",
    "plt.ylabel('Add y-label')\n",
    "plt.savefig('temperatures.png')\n",
    "plt.show()"
   ]
  }
 ],
 "metadata": {
  "kernelspec": {
   "display_name": "Python 3",
   "language": "python",
   "name": "python3"
  },
  "language_info": {
   "codemirror_mode": {
    "name": "ipython",
    "version": 3
   },
   "file_extension": ".py",
   "mimetype": "text/x-python",
   "name": "python",
   "nbconvert_exporter": "python",
   "pygments_lexer": "ipython3",
   "version": "3.7.4"
  }
 },
 "nbformat": 4,
 "nbformat_minor": 2
}
