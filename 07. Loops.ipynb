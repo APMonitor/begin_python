{
 "cells": [
  {
   "cell_type": "markdown",
   "metadata": {},
   "source": [
    "## 7. Loops\n",
    "There are two basic types of loops including `for` and `while`. An example of a loop is to check the temperature of the egg every second and adjust the heater.\n",
    "\n",
    "### While Loops\n",
    "These loops work by repeating until the condition becomes ```False```. The way they are coded can almost be said as a sentence. ```while x > 0:``` While x is greater than 0.\n",
    "\n",
    "These get stuck in an infinite loop if the condition for termination is never met. You can stop the infinite loop by setting the value of ```True``` to become ```False``` in many ways. In the code below, the infinite loop is broken by making ```x``` one less each time it goes through the loop, with ```x = x - 1```. \n",
    "\n",
    "See how the loop changes by switching the value of ```x```."
   ]
  },
  {
   "cell_type": "code",
   "execution_count": 3,
   "metadata": {
    "scrolled": true
   },
   "outputs": [
    {
     "name": "stdout",
     "output_type": "stream",
     "text": [
      "Are you done yet?\n",
      "Almost done 8\n",
      "Almost done 7\n",
      "Almost done 6\n",
      "Almost done 5\n"
     ]
    }
   ],
   "source": [
    "print('Are you done yet?')\n",
    "\n",
    "x = 8 # Switch this number\n",
    "\n",
    "while x >= 5: # Code stops when x is less than or equal to 5\n",
    "    print(\"Almost done \" + str(x)) # Uses the value in the loop and changes it to a string\n",
    "    x = x - 1 # Makes x one less each loop "
   ]
  },
  {
   "cell_type": "markdown",
   "metadata": {},
   "source": [
    "Pro Tip: ```x = x - 1``` can be simplified into ```x -= 1```. They mean the same thing, it's just a little shorter. This is true for most other math operators. ```+=```, ```*=```, ```/=```, are all working equations."
   ]
  },
  {
   "cell_type": "code",
   "execution_count": null,
   "metadata": {},
   "outputs": [],
   "source": [
    "x = 5\n",
    "x *= 3\n",
    "print(x)"
   ]
  },
  {
   "cell_type": "markdown",
   "metadata": {},
   "source": [
    "Another thing used in while loops is the ```==``` symbols. Just one ```=``` means you are assigning a variable, but you can't do that in a ```while``` loop because you can't assign variables wherever. Instead use the ```==``` to tell the code you are just comparing the two values. For example:\n",
    "```python\n",
    "while x == 0:\n",
    "```"
   ]
  },
  {
   "cell_type": "code",
   "execution_count": null,
   "metadata": {},
   "outputs": [],
   "source": [
    "x = 0\n",
    "\n",
    "while x == 0:\n",
    "    print(x)\n",
    "    x += 1\n",
    "    while x == 1:\n",
    "        print(x)\n",
    "        x += 1\n",
    "        while x == 2:\n",
    "            print(x)\n",
    "            x += 1"
   ]
  },
  {
   "cell_type": "markdown",
   "metadata": {},
   "source": [
    "### For Loops\n",
    "For loops can be very useful but are a little more complicated to understand. They are formatted ```for i in ```\\___```:```. The ```i``` is just a typical iterator. You can enter any variable name you like right there. \n",
    "\n",
    "You typically use a ```for``` loop when you know the number of times the loop should repeat. A ```while``` loop is when you don't know the number of times to cycle through the instructions whe you start. The ```i```, is used to keep track of the current loop count. The ```in``` is saying what values the `for` loop iterates through, and the ```blank``` is what value the `for` loop will use.\n",
    "\n",
    "You can enter a number of things into the blank spot to complete the loop, and we'll go over those below. You can practice `for` loops by putting new values into that spot such as a list or range operator."
   ]
  },
  {
   "cell_type": "markdown",
   "metadata": {},
   "source": [
    "#### Range\n",
    "One thing that can go in for loops is `range`. It's formatted as ```range()```, and the number is in the ```()``` is how many times it repeats. See what `range` does differently by putting in a different number. "
   ]
  },
  {
   "cell_type": "code",
   "execution_count": 6,
   "metadata": {},
   "outputs": [
    {
     "name": "stdout",
     "output_type": "stream",
     "text": [
      "0\n",
      "1\n",
      "2\n",
      "3\n",
      "4\n",
      "5\n",
      "6\n"
     ]
    }
   ],
   "source": [
    "for i in range(7): # Enter a new number\n",
    "    print('Cycle', i)"
   ]
  },
  {
   "cell_type": "markdown",
   "metadata": {},
   "source": [
    "Range can have up to 3 numbers if you need more control. The __first__ is the starting number, the __second__ is the ending number, and the __third__ is what steps it will take. It looks something like this: \n",
    "```python\n",
    "for i in range(0,8,3):\n",
    "```\n",
    "If you only put one value into a ```range()``` it will assume it is the __second__ number. So the example you did above, ```for i in range(7):```, really looks like this:\n",
    "```python\n",
    "for i in range(0,7,1):\n",
    "```\n",
    "Practice this concept by changing the numbers. Make the stepping number negative, but the first number bigger than the second. This should make the loop count __backwards__."
   ]
  },
  {
   "cell_type": "code",
   "execution_count": 5,
   "metadata": {},
   "outputs": [
    {
     "name": "stdout",
     "output_type": "stream",
     "text": [
      "0\n",
      "3\n",
      "6\n"
     ]
    }
   ],
   "source": [
    "for i in range(0,8,3): # Enter new numbers, then enter 8,0,-3\n",
    "    print('Cycle', i)"
   ]
  },
  {
   "cell_type": "markdown",
   "metadata": {},
   "source": [
    "#### String\n",
    "If you enter a string, like ```\"hello\"``` it will loop however many characters are in the string. Enter any new word you like."
   ]
  },
  {
   "cell_type": "code",
   "execution_count": 12,
   "metadata": {},
   "outputs": [
    {
     "name": "stdout",
     "output_type": "stream",
     "text": [
      "Cycle h\n",
      "Cycle e\n",
      "Cycle l\n",
      "Cycle l\n",
      "Cycle o\n"
     ]
    }
   ],
   "source": [
    "for i in \"hello\": # Loops for number of characters, practice by entering a new word\n",
    "    print('Cycle', i)"
   ]
  },
  {
   "cell_type": "markdown",
   "metadata": {},
   "source": [
    "#### Variable\n",
    "You can also enter a variable to control the number of `for` loop cycles. The variable is used in the `for` loop to determine the number of cycles. The variable can be numbers, strings, or a list.  Using ```for i in range(9):``` is the same as ```x = 9```   ```for i in range(x):```."
   ]
  },
  {
   "cell_type": "code",
   "execution_count": 11,
   "metadata": {},
   "outputs": [
    {
     "name": "stdout",
     "output_type": "stream",
     "text": [
      "c\n",
      "h\n",
      "i\n",
      "c\n",
      "k\n",
      "e\n",
      "n\n",
      "0\n",
      "1\n",
      "2\n",
      "3\n",
      "4\n",
      "5\n",
      "6\n",
      "7\n",
      "8\n"
     ]
    }
   ],
   "source": [
    "x = \"chicken\"\n",
    "for i in x:\n",
    "    print(i)\n",
    "\n",
    "y = 9\n",
    "for i in range(y):\n",
    "    print(i)"
   ]
  },
  {
   "cell_type": "markdown",
   "metadata": {},
   "source": [
    "#### Using ```i```\n",
    "Now here's the twist. In a `for` loop the ```i``` variable, in ```for i in ```(variable, range, string)```:```, can be used during the repeating loop. Everytime the for loop goes again, it goes to the next value, and puts it into i. You can use `i` in a loop to do different things based on the cycle number. \n",
    "\n",
    "This is similar to the ```while``` loop example where we used this code \n",
    "```python\n",
    "print(\"Almost done \" + str(x))```\n",
    "\n",
    "For numbers, ```for loops``` start counting at 0. So if the loop had a ```range(3)```, it would count 0, 1, 2. For strings, it just prints the individual characters in order so ```\"hi\"``` would just output __h__ then __i__. This can be used in a number of useful ways you may use later in this course. Now using stepping in range, we can print numbers in steps."
   ]
  },
  {
   "cell_type": "code",
   "execution_count": null,
   "metadata": {},
   "outputs": [],
   "source": [
    "for i in 'cheese':\n",
    "    print(i)\n",
    "\n",
    "print(\" \") # Just to space it out, same for the 2 other print lines below\n",
    "    \n",
    "for i in range(5):\n",
    "    print(i)\n",
    "print(\" \")\n",
    "\n",
    "for i in range(0,10,2): # See the explanation in the range section above if this is confusing\n",
    "    print(i)\n",
    "print(' ')\n",
    "\n",
    "for i in range(10,0,-2): # Backwards version of the loop above\n",
    "    print(i)"
   ]
  },
  {
   "cell_type": "markdown",
   "metadata": {},
   "source": [
    "### Activity\n",
    "\n",
    "Create a ```for``` loop that prints out each letter of your name, __backwards__.\n",
    "\n",
    "```python\n",
    "string[number]\n",
    "``` \n",
    "\n",
    "This function finds the index of a string. ```\"hi\"[0]``` would be ```\"h\"``` and ```\"hi\"[1]``` would be ```\"i\"```.\n",
    "\n",
    "```python\n",
    "len(string)\n",
    "```\n",
    "\n",
    "This function gives the length of a string. ```len(\"waffles\")``` would be ```7```."
   ]
  },
  {
   "cell_type": "code",
   "execution_count": 13,
   "metadata": {},
   "outputs": [
    {
     "ename": "TypeError",
     "evalue": "'str' object cannot be interpreted as an integer",
     "output_type": "error",
     "traceback": [
      "\u001b[1;31m---------------------------------------------------------------------------\u001b[0m",
      "\u001b[1;31mTypeError\u001b[0m                                 Traceback (most recent call last)",
      "\u001b[1;32m<ipython-input-13-34e9a48eea20>\u001b[0m in \u001b[0;36m<module>\u001b[1;34m\u001b[0m\n\u001b[0;32m      1\u001b[0m \u001b[0mname\u001b[0m \u001b[1;33m=\u001b[0m \u001b[1;34m\"enter your name\"\u001b[0m\u001b[1;33m\u001b[0m\u001b[1;33m\u001b[0m\u001b[0m\n\u001b[0;32m      2\u001b[0m \u001b[1;33m\u001b[0m\u001b[0m\n\u001b[1;32m----> 3\u001b[1;33m \u001b[1;32mfor\u001b[0m \u001b[0mi\u001b[0m \u001b[1;32min\u001b[0m \u001b[0mrange\u001b[0m\u001b[1;33m(\u001b[0m\u001b[1;33m(\u001b[0m\u001b[0mlen\u001b[0m\u001b[1;33m(\u001b[0m\u001b[0mname\u001b[0m\u001b[1;33m)\u001b[0m \u001b[1;33m-\u001b[0m \u001b[1;36m1\u001b[0m\u001b[1;33m)\u001b[0m\u001b[1;33m,\u001b[0m \u001b[1;34m\"end value\"\u001b[0m\u001b[1;33m,\u001b[0m \u001b[1;34m\"step backwards\"\u001b[0m\u001b[1;33m)\u001b[0m\u001b[1;33m:\u001b[0m \u001b[1;31m# Remember that python starts at 0 for indexing\u001b[0m\u001b[1;33m\u001b[0m\u001b[1;33m\u001b[0m\u001b[0m\n\u001b[0m\u001b[0;32m      4\u001b[0m     \u001b[0mprint\u001b[0m\u001b[1;33m(\u001b[0m\u001b[0mname\u001b[0m\u001b[1;33m[\u001b[0m\u001b[0mi\u001b[0m\u001b[1;33m]\u001b[0m\u001b[1;33m)\u001b[0m \u001b[1;31m# Brackets [] refer to the index of a string\u001b[0m\u001b[1;33m\u001b[0m\u001b[1;33m\u001b[0m\u001b[0m\n",
      "\u001b[1;31mTypeError\u001b[0m: 'str' object cannot be interpreted as an integer"
     ]
    }
   ],
   "source": [
    "name = \"enter your name\"\n",
    "\n",
    "for i in range((len(name) - 1), \"end value\", \"step backwards\"): # Remember that python starts at 0 for indexing\n",
    "    print(name[i]) # Brackets [] refer to the index of a string"
   ]
  },
  {
   "cell_type": "markdown",
   "metadata": {},
   "source": [
    "When you run code that turns on the heaters, make sure they work by putting your hand over them or observing the thermochromic paint turn pink when they are over 37°C. Go over Lesson 6 Functions TCLab again, if you don't remember them.\n",
    "\n",
    "Make a while loop that blinks on and off the __Hot__ LED light.  If the temperature gets above 28 degC, then turn on the light on, disconnect the lab after 3 seconds. You don't need to install `tclab` again once it is install the first time. Just use ```import tclab```. It's also useful to print the temperature to see if the program works."
   ]
  },
  {
   "cell_type": "code",
   "execution_count": null,
   "metadata": {},
   "outputs": [],
   "source": [
    "import tclab # Imports usually come first\n",
    "import time\n",
    "lab = tclab.TCLab()\n",
    "\n",
    "# Set both heater powers on before the while loop\n",
    "\n",
    "# Make a while loop"
   ]
  },
  {
   "cell_type": "markdown",
   "metadata": {},
   "source": [
    "Make a `for` loop that makes the LED percent go all the way from 100 to 0 in steps of 1. Include a 0.1 second pause in between each step with `time.sleep(0.1)`."
   ]
  },
  {
   "cell_type": "code",
   "execution_count": 14,
   "metadata": {},
   "outputs": [
    {
     "ename": "TypeError",
     "evalue": "range expected 1 arguments, got 0",
     "output_type": "error",
     "traceback": [
      "\u001b[1;31m---------------------------------------------------------------------------\u001b[0m",
      "\u001b[1;31mTypeError\u001b[0m                                 Traceback (most recent call last)",
      "\u001b[1;32m<ipython-input-14-be95a3579e41>\u001b[0m in \u001b[0;36m<module>\u001b[1;34m\u001b[0m\n\u001b[0;32m      2\u001b[0m \u001b[1;32mimport\u001b[0m \u001b[0mtime\u001b[0m\u001b[1;33m\u001b[0m\u001b[1;33m\u001b[0m\u001b[0m\n\u001b[0;32m      3\u001b[0m \u001b[1;33m\u001b[0m\u001b[0m\n\u001b[1;32m----> 4\u001b[1;33m \u001b[1;32mfor\u001b[0m \u001b[0mi\u001b[0m \u001b[1;32min\u001b[0m \u001b[0mrange\u001b[0m\u001b[1;33m(\u001b[0m\u001b[1;33m)\u001b[0m\u001b[1;33m:\u001b[0m \u001b[1;31m# Needs to go from 100 to 0\u001b[0m\u001b[1;33m\u001b[0m\u001b[1;33m\u001b[0m\u001b[0m\n\u001b[0m\u001b[0;32m      5\u001b[0m     \u001b[0mtime\u001b[0m\u001b[1;33m.\u001b[0m\u001b[0msleep\u001b[0m\u001b[1;33m(\u001b[0m\u001b[1;36m0.1\u001b[0m\u001b[1;33m)\u001b[0m\u001b[1;33m\u001b[0m\u001b[1;33m\u001b[0m\u001b[0m\n",
      "\u001b[1;31mTypeError\u001b[0m: range expected 1 arguments, got 0"
     ]
    }
   ],
   "source": [
    "import tclab\n",
    "import time\n",
    "\n",
    "for i in range(): # Needs to go from 100 to 0\n",
    "    time.sleep(0.1)"
   ]
  }
 ],
 "metadata": {
  "kernelspec": {
   "display_name": "Python 3",
   "language": "python",
   "name": "python3"
  },
  "language_info": {
   "codemirror_mode": {
    "name": "ipython",
    "version": 3
   },
   "file_extension": ".py",
   "mimetype": "text/x-python",
   "name": "python",
   "nbconvert_exporter": "python",
   "pygments_lexer": "ipython3",
   "version": "3.7.4"
  }
 },
 "nbformat": 4,
 "nbformat_minor": 2
}
