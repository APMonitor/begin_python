{
 "cells": [
  {
   "cell_type": "markdown",
   "metadata": {},
   "source": [
    "# Loops\n",
    "There are two basic types of loops. Loops for an example would be looping temperature changes for the egg.\n",
    "\n",
    "### While Loops\n",
    "These loops work by repeating until their condition becomes ```False```. These loops often get you stuck in an infinite loop if you aren't careful. You can stop the infinite loop by setting the value of ```True``` to become ```False``` in many ways. In the code below, the infinite loop is broken by making ```x``` one less each time it goes through the loop, with ```x = x - 1```. Try changing the value of ```x```.\n",
    "\n",
    "Another thing used in while loops is the ```==``` symbols. Just one ```=``` means you are assigning a variable, but you can't do that in a ```while``` loop. Instead use the ```==``` to tell the code you are just comparing the two values. For example:\n",
    "```python\n",
    "while x == 0:\n",
    "```"
   ]
  },
  {
   "cell_type": "code",
   "execution_count": 2,
   "metadata": {},
   "outputs": [
    {
     "name": "stdout",
     "output_type": "stream",
     "text": [
      "Are you done yet?\n",
      "Almost done 7\n",
      "Almost done 6\n",
      "Almost done 5\n",
      "Almost done 4\n"
     ]
    }
   ],
   "source": [
    "print('Are you done yet?')\n",
    "x = 8 # Try changing this number\n",
    "\n",
    "while x >= 5: # Code stops when x is less than 5\n",
    "    x = x - 1 # Makes x one less each loop \n",
    "    print(\"Almost done \" + str(x)) # Uses the value in the loop and changes it to a string"
   ]
  },
  {
   "cell_type": "markdown",
   "metadata": {},
   "source": [
    "### For Loops\n",
    "For loops can be very useful but are a little more complicated to understand. They are formatted ```for i in ```\\___```:```. The i is just traditional, you can enter any variable name you like right there. \n",
    "\n",
    "You can enter a number of things into the blank spot to complete the loop, and we'll go over those below. Make sure to try new things into the loops."
   ]
  },
  {
   "cell_type": "markdown",
   "metadata": {},
   "source": [
    "#### Range\n",
    "The first thing that can go in for loops is range. It's formatted as ```range()```, and what the number is in the ```()``` is how many times it will repeat. Try putting in a different number. "
   ]
  },
  {
   "cell_type": "code",
   "execution_count": 2,
   "metadata": {},
   "outputs": [
    {
     "name": "stdout",
     "output_type": "stream",
     "text": [
      "This many times\n",
      "This many times\n",
      "This many times\n",
      "This many times\n",
      "This many times\n",
      "This many times\n",
      "This many times\n"
     ]
    }
   ],
   "source": [
    "for i in range(7): # Enter a new number\n",
    "    print(\"This many times\")"
   ]
  },
  {
   "cell_type": "markdown",
   "metadata": {},
   "source": [
    "Range is actually 3 numbers, even if you only put one in. The __first__ is the starting number, the __second__ is the ending number, and the __third__ is what steps it takes. It looks something like this: \n",
    "```python\n",
    "for i in range(0,8,3):\n",
    "```\n",
    "If you only put one value into a ```range()``` it will assume it is the __second__ number. So the example you did above really looks like this:\n",
    "```python\n",
    "for i in range(0,7,1):\n",
    "```\n",
    "Try out this method by changing the numbers. Try and make the stepping number negative, but the first number bigger than the second. This should make it count backwards."
   ]
  },
  {
   "cell_type": "code",
   "execution_count": 3,
   "metadata": {},
   "outputs": [
    {
     "name": "stdout",
     "output_type": "stream",
     "text": [
      "This many times\n",
      "This many times\n",
      "This many times\n"
     ]
    }
   ],
   "source": [
    "for i in range(0,8,3): # Try changing the numbers to something else, then try 8,0,-3\n",
    "    print(\"This many times\")"
   ]
  },
  {
   "cell_type": "markdown",
   "metadata": {},
   "source": [
    "#### String\n",
    "If you enter a string, like ```\"hello\"``` it will loop however many characters are in the string. Try entering a new word."
   ]
  },
  {
   "cell_type": "code",
   "execution_count": 4,
   "metadata": {},
   "outputs": [
    {
     "name": "stdout",
     "output_type": "stream",
     "text": [
      "This many times\n",
      "This many times\n",
      "This many times\n",
      "This many times\n",
      "This many times\n"
     ]
    }
   ],
   "source": [
    "for i in \"hello\": # Loops for number of characters, try a new word\n",
    "    print('This many times')"
   ]
  },
  {
   "cell_type": "markdown",
   "metadata": {},
   "source": [
    "#### Variable\n",
    "You can also enter a variable into a for loop. All it does is put in the for loop what was in the variable. This can be for numbers or strings. \n",
    "\n",
    "So using ```for i in range(9):``` is the same as ```x = 9```   ```for i in range(x):```."
   ]
  },
  {
   "cell_type": "code",
   "execution_count": 9,
   "metadata": {},
   "outputs": [
    {
     "name": "stdout",
     "output_type": "stream",
     "text": [
      "This many times\n",
      "This many times\n",
      "This many times\n",
      "This many times\n",
      "This many times\n",
      "This many times\n",
      "This many times\n",
      "This many times\n"
     ]
    }
   ],
   "source": [
    "x = \"not sure\"\n",
    "\n",
    "for i in x:\n",
    "    print(\"This many times\")"
   ]
  },
  {
   "cell_type": "markdown",
   "metadata": {},
   "source": [
    "#### Using ```i```\n",
    "Now here's the twist. In a for loop the ```i``` variable, in ```for i in ```(variable, range, string)```:```, can be used during the repeated loop. Everytime the for loop goes again, it goes to the next value, and puts it into i. You can use i in a loop and it can be super useful. \n",
    "\n",
    "This is similar to the ```while``` loop example where we used this code \n",
    "```python\n",
    "print(\"Almost done \" + str(x))```\n",
    "\n",
    "For numbers, it starts at 0 so if the loop had a ```range(3)```, it would count 0, 1, 2. For strings, it just prints the characters in order so ```\"hi\"``` would just be h, i. This can be used in a number of useful ways you may use later in this course. Now using stepping in range, we can print numbers in steps."
   ]
  },
  {
   "cell_type": "code",
   "execution_count": 4,
   "metadata": {},
   "outputs": [
    {
     "name": "stdout",
     "output_type": "stream",
     "text": [
      "c\n",
      "h\n",
      "e\n",
      "e\n",
      "s\n",
      "e\n",
      " \n",
      "0\n",
      "1\n",
      "2\n",
      "3\n",
      "4\n",
      " \n",
      "0\n",
      "2\n",
      "4\n",
      "6\n",
      "8\n",
      " \n",
      "10\n",
      "8\n",
      "6\n",
      "4\n",
      "2\n"
     ]
    }
   ],
   "source": [
    "for i in 'cheese':\n",
    "    print(i)\n",
    "\n",
    "print(\" \") # Just to space it out, same for the other 2 below\n",
    "    \n",
    "for i in range(5):\n",
    "    print(i)\n",
    "    \n",
    "print(\" \")\n",
    "\n",
    "for i in range(0,10,2): # See the explanation in the range section above\n",
    "    print(i)\n",
    "    \n",
    "print(' ')\n",
    "\n",
    "for i in range(10,0,-2): # Backwards version of the loop above\n",
    "    print(i)"
   ]
  },
  {
   "cell_type": "markdown",
   "metadata": {},
   "source": [
    "## Activity\n",
    "Turn on the heaters and feel to make sure if they get hot while you run this code. Go over Lesson 6 Functions TCLab again, if you don't remember them. Make a while loop that blinks on the __Hot__ LED light, every half second.  If the temperture gets above 28 degC, then turn on the light on, disconnect the lab after 3 seconds. You don't have to install tclab again, just use ```import tclab```. It's also useful to print what the temperture is to see if the program works."
   ]
  },
  {
   "cell_type": "code",
   "execution_count": null,
   "metadata": {},
   "outputs": [],
   "source": [
    "import tclab\n",
    "# Code usually goes after imports"
   ]
  },
  {
   "cell_type": "markdown",
   "metadata": {},
   "source": [
    "Make a for loop that makes the LED percent go all the way from 100 to 0 in steps of 1."
   ]
  },
  {
   "cell_type": "code",
   "execution_count": null,
   "metadata": {},
   "outputs": [],
   "source": []
  }
 ],
 "metadata": {
  "kernelspec": {
   "display_name": "Python 3",
   "language": "python",
   "name": "python3"
  },
  "language_info": {
   "codemirror_mode": {
    "name": "ipython",
    "version": 3
   },
   "file_extension": ".py",
   "mimetype": "text/x-python",
   "name": "python",
   "nbconvert_exporter": "python",
   "pygments_lexer": "ipython3",
   "version": "3.7.0"
  }
 },
 "nbformat": 4,
 "nbformat_minor": 2
}
