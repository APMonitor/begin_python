{
 "cells": [
  {
   "cell_type": "markdown",
   "metadata": {},
   "source": [
    "## 7. Loops\n",
    "\n",
    "![list](https://apmonitor.com/che263/uploads/Begin_Python/list.png)\n",
    "\n",
    "There are two basic types of loops including `for` and `while`. An example of a loop is to check the temperature of the egg every second and adjust the heater.\n",
    "\n",
    "[Python Playlist on YouTube](https://www.youtube.com/watch?v=qR0njzQvvOA&list=PLLBUgWXdTBDi3J05aMVG1knUpqRhkbc46)",
    "\n",
    "[![Loops](https://apmonitor.com/che263/uploads/Begin_Python/BeginPython07.png)](https://www.youtube.com/watch?v=qR0njzQvvOA&list=PLLBUgWXdTBDi3J05aMVG1knUpqRhkbc46 \"Loops\")\n",
    "\n",
    "### While Loops\n",
    "\n",
    "![idea](https://apmonitor.com/che263/uploads/Begin_Python/idea.png)\n",
    "\n",
    "While loops work by repeating until the condition becomes ```False```. The way they are coded can almost be said as a sentence. ```while x > 0:``` While x is greater than 0.\n",
    "\n",
    "While loops can get stuck in an infinite loop if the condition for termination is never met. You can stop the infinite loop by setting the value of ```True``` to become ```False``` in different ways. In the code below, the infinite loop is broken by making ```x``` one less each time it goes through the loop, with ```x = x - 1```. \n",
    "\n",
    "See how the loop changes by switching the value of ```x```."
   ]
  },
  {
   "cell_type": "code",
   "execution_count": null,
   "metadata": {
    "scrolled": true
   },
   "outputs": [],
   "source": [
    "print('Are you done yet?')\n",
    "\n",
    "x = 8 # Switch this number\n",
    "\n",
    "while x >= 5: # Code stops when x is less than or equal to 5\n",
    "    print(\"Almost done \" + str(x)) # Uses the value in the loop and changes it to a string\n",
    "    x = x - 1 # Makes x one less each loop "
   ]
  },
  {
   "cell_type": "markdown",
   "metadata": {},
   "source": [
    "Tip: ```x = x - 1``` can be simplified into ```x -= 1```. They mean the same thing, it's just a little shorter. This is true for most other math operators. ```+=```, ```*=```, ```/=```, are all working equations."
   ]
  },
  {
   "cell_type": "code",
   "execution_count": null,
   "metadata": {},
   "outputs": [],
   "source": [
    "x = 5\n",
    "x *= 3\n",
    "print(x)"
   ]
  },
  {
   "cell_type": "markdown",
   "metadata": {},
   "source": [
    "Another thing used in `while` loops is comparitive statements such as ```==``` symbols. Just one ```=``` means you are assigning a variable, but this shouldn't be done to check ```while``` loop conditions. Instead use the ```==``` to tell the `while` loop that you are just comparing the two values. For example:\n",
    "\n",
    "```python\n",
    "while x == 0:\n",
    "```"
   ]
  },
  {
   "cell_type": "code",
   "execution_count": null,
   "metadata": {},
   "outputs": [],
   "source": [
    "x = 0\n",
    "\n",
    "while x == 0:\n",
    "    print('First While Loop')\n",
    "    print(x)\n",
    "    x += 1\n",
    "    while x == 1:\n",
    "        print('Second (Nested) While Loop')\n",
    "        print(x)\n",
    "        x += 1\n",
    "print('Third While Loop')\n",
    "while x <= 5:\n",
    "    print(x)\n",
    "    x += 1"
   ]
  },
  {
   "cell_type": "markdown",
   "metadata": {},
   "source": [
    "### For Loops\n",
    "\n",
    "![exercise](https://apmonitor.com/che263/uploads/Begin_Python/exercise.png)\n",
    "\n",
    "A `for` loop is needed when you know how many times the loop should cycle. A `while` loop is typically used when the number of cycles is unknown beforehand. A `for` loop is formatted ```for i in ```[1,2,3]```:```. The ```i``` is just a typical iterator. You can enter any variable name you like instead of `i`.  The ```i```, is used to keep track of the current loop count. The ```in``` is saying what values the `for` loop iterates through, and the ```[1,2,3]``` is a list of the values that the `for` loop will use.\n",
    "\n",
    "You can enter a number of things besides the `[1,2,3]` to define the loop, and we'll go over those below. You can practice `for` loops by putting new values into that spot such as a list or range operator."
   ]
  },
  {
   "cell_type": "markdown",
   "metadata": {},
   "source": [
    "#### Range\n",
    "One thing that can go in for loops is `range`. It's formatted as ```range()```, and the number is in the ```()``` is how many times it repeats. See what `range` does differently by putting in a different number. "
   ]
  },
  {
   "cell_type": "code",
   "execution_count": null,
   "metadata": {},
   "outputs": [],
   "source": [
    "for i in range(7): # Enter a new number\n",
    "    print('Cycle', i)"
   ]
  },
  {
   "cell_type": "markdown",
   "metadata": {},
   "source": [
    "Range can have up to 3 numbers if you need more control. The __first__ is the starting number, the __second__ is the ending number, and the __third__ is what steps it will take. It looks something like this: \n",
    "```python\n",
    "for i in range(0,8,3):\n",
    "```\n",
    "If you only put one value into a ```range()``` it will assume it is the __second__ number. So the example you did above, ```for i in range(7):```, really looks like this:\n",
    "```python\n",
    "for i in range(0,7,1):\n",
    "```\n",
    "Practice this concept by changing the numbers. Make the stepping number negative, but the first number bigger than the second. This should make the loop count __backwards__."
   ]
  },
  {
   "cell_type": "code",
   "execution_count": null,
   "metadata": {},
   "outputs": [],
   "source": [
    "for i in range(0,8,3): # Enter new numbers, then enter 8,0,-3\n",
    "    print('Cycle', i)"
   ]
  },
  {
   "cell_type": "markdown",
   "metadata": {},
   "source": [
    "#### String\n",
    "If you enter a string, like ```\"hello\"``` it will loop however many characters are in the string. Enter any new word you like."
   ]
  },
  {
   "cell_type": "code",
   "execution_count": null,
   "metadata": {},
   "outputs": [],
   "source": [
    "for i in \"hello\": # Loops for number of characters, practice by entering a new word\n",
    "    print('Cycle', i)"
   ]
  },
  {
   "cell_type": "markdown",
   "metadata": {},
   "source": [
    "#### Variable\n",
    "You can also enter a variable to control the number of `for` loop cycles. The variable is used in the `for` loop to determine the number of cycles. The variable can be numbers, strings, or a list.  Using ```for i in range(9):``` is the same as ```x = 9```   ```for i in range(x):```."
   ]
  },
  {
   "cell_type": "code",
   "execution_count": null,
   "metadata": {},
   "outputs": [],
   "source": [
    "x = \"chicken\"\n",
    "for i in x:\n",
    "    print(i)\n",
    "\n",
    "y = 9\n",
    "for i in range(y):\n",
    "    print(i)"
   ]
  },
  {
   "cell_type": "markdown",
   "metadata": {},
   "source": [
    "#### Using ```i```\n",
    "Now here's the twist. In a `for` loop the ```i``` variable, in ```for i in ```(variable, range, string)```:```, can be used during the repeating loop. Everytime the `for` loop repeats again, it goes to the next value, and assigns it to `i`. You can use `i` in a loop to do different things based on the cycle number. \n",
    "\n",
    "This is similar to the ```while``` loop example where we used this code \n",
    "```python\n",
    "print(\"Almost done \" + str(x))```\n",
    "\n",
    "For numbers, ```for loops``` start counting at `0`. If the loop had a ```range(3)```, it would count 0, 1, 2. For strings, it just prints the individual characters in order so ```\"hi\"``` would just output __h__ then __i__. This can be used in a number of useful ways you may use later in this course. Now using stepping in range, we can print numbers in steps."
   ]
  },
  {
   "cell_type": "code",
   "execution_count": null,
   "metadata": {},
   "outputs": [],
   "source": [
    "for i in 'cheese':\n",
    "    print(i)\n",
    "\n",
    "print(\" \") # Just to space it out, same for the 2 other print lines below\n",
    "    \n",
    "for i in range(5):\n",
    "    print(i)\n",
    "print(\" \")\n",
    "\n",
    "for i in range(0,10,2): # See the explanation in the range section above if this is confusing\n",
    "    print(i)\n",
    "print(' ')\n",
    "\n",
    "for i in range(10,0,-2): # Backwards version of the loop above\n",
    "    print(i)"
   ]
  },
  {
   "cell_type": "markdown",
   "metadata": {},
   "source": [
    "### Activity\n",
    "\n",
    "![expert](https://apmonitor.com/che263/uploads/Begin_Python/expert.png)\n",
    "\n",
    "Create a ```for``` loop that prints out each letter of your name, __backwards__.\n",
    "\n",
    "```python\n",
    "string[number]\n",
    "``` \n",
    "\n",
    "This function finds the index of a string. ```\"hi\"[0]``` would be ```\"h\"``` and ```\"hi\"[1]``` would be ```\"i\"```.\n",
    "\n",
    "```python\n",
    "len(string)\n",
    "```\n",
    "\n",
    "This function gives the length of a string. ```len(\"waffles\")``` would be ```7```."
   ]
  },
  {
   "cell_type": "code",
   "execution_count": null,
   "metadata": {},
   "outputs": [],
   "source": [
    "name = \"enter your name\"\n",
    "\n",
    "for i in range((len(name) - 1), \"end value\", \"step backwards\"): # Remember that python starts at 0 for indexing\n",
    "    print(name[i]) # Brackets [] refer to the index of a string"
   ]
  },
  {
   "cell_type": "markdown",
   "metadata": {},
   "source": [
    "When you run code that turns on the heaters, make sure they work by putting your hand over them or observing the thermochromic paint turn pink when they are over 37°C. Go over Lesson 6 Functions TCLab again, if you don't remember them.\n",
    "\n",
    "Make a `while` loop that blinks on and off the __Hot__ LED light.  If the temperature gets above 28°C, then turn on the light on, disconnect the lab after 3 seconds. You don't need to install `tclab` again once it is installed the first time, just use ```import tclab```. It's also useful to print the temperature to see if the program works and the temperature is changing."
   ]
  },
  {
   "cell_type": "code",
   "execution_count": null,
   "metadata": {},
   "outputs": [],
   "source": [
    "import tclab # Imports usually come first\n",
    "import time\n",
    "lab = tclab.TCLab()\n",
    "\n",
    "# Set both heater powers on before the while loop\n",
    "\n",
    "# Make a while loop"
   ]
  },
  {
   "cell_type": "markdown",
   "metadata": {},
   "source": [
    "Make a `for` loop that makes the LED percent go all the way from 100 to 0 in steps of 1. Include a 0.1 second pause in between each step with `time.sleep(0.1)`."
   ]
  },
  {
   "cell_type": "code",
   "execution_count": null,
   "metadata": {},
   "outputs": [],
   "source": [
    "import tclab\n",
    "import time\n",
    "\n",
    "for i in range(): # Needs to go from 100 to 0\n",
    "    time.sleep(0.1)"
   ]
  }
 ],
 "metadata": {
  "kernelspec": {
   "display_name": "Python 3",
   "language": "python",
   "name": "python3"
  },
  "language_info": {
   "codemirror_mode": {
    "name": "ipython",
    "version": 3
   },
   "file_extension": ".py",
   "mimetype": "text/x-python",
   "name": "python",
   "nbconvert_exporter": "python",
   "pygments_lexer": "ipython3",
   "version": "3.7.4"
  }
 },
 "nbformat": 4,
 "nbformat_minor": 2
}
