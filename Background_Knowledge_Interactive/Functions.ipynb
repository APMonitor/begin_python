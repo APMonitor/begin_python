{
 "cells": [
  {
   "cell_type": "markdown",
   "metadata": {},
   "source": [
    "# Functions\n",
    "Functions exist to do the same task repeatedly without you having to type out the same code everytime. You can create your own, but also some are built in to python or in certain packages. One built in function you have already seen is the ```print()``` function. "
   ]
  },
  {
   "cell_type": "markdown",
   "metadata": {},
   "source": [
    "## Creating your own\n",
    "The way to tell the computer you are starting your own function is ```def``` followed by the function name. You need the ```():``` for the computer to recognize it as a function."
   ]
  },
  {
   "cell_type": "code",
   "execution_count": null,
   "metadata": {},
   "outputs": [],
   "source": [
    "def myFunction(): # Defining the Function"
   ]
  },
  {
   "cell_type": "markdown",
   "metadata": {},
   "source": [
    "The code is then put into the function on what it's supposed to do. But you need to call the function for it to actually use that code. The way you do that is the function name with ```()```."
   ]
  },
  {
   "cell_type": "code",
   "execution_count": 2,
   "metadata": {},
   "outputs": [
    {
     "name": "stdout",
     "output_type": "stream",
     "text": [
      "Function\n"
     ]
    }
   ],
   "source": [
    "def myFunction(): # Defining the Function\n",
    "    print(\"Function\")\n",
    "    \n",
    "myFunction() # Calling the Function"
   ]
  },
  {
   "cell_type": "markdown",
   "metadata": {},
   "source": [
    "You can also put in values in the ```()``` to the function that it needs to run. You should also use the ```return``` phrase that gives the calling a value to print."
   ]
  },
  {
   "cell_type": "code",
   "execution_count": 3,
   "metadata": {},
   "outputs": [
    {
     "data": {
      "text/plain": [
       "12"
      ]
     },
     "execution_count": 3,
     "metadata": {},
     "output_type": "execute_result"
    }
   ],
   "source": [
    "def myFunction(a, b): \n",
    "    return a*b\n",
    "\n",
    "myFunction(3, 4)"
   ]
  },
  {
   "cell_type": "markdown",
   "metadata": {},
   "source": [
    "## Activity\n",
    "Make a function that adds two values together"
   ]
  },
  {
   "cell_type": "code",
   "execution_count": null,
   "metadata": {},
   "outputs": [],
   "source": [
    "def adding():\n",
    "    #Code\n",
    "    \n",
    "adding()"
   ]
  },
  {
   "cell_type": "markdown",
   "metadata": {},
   "source": [
    "## TCLab Functions\n",
    "In the last lesson on objects, it mentioned the ```lab``` object. Objects can have functions that are used with a ```.``` and then the function name. Using functions, we can change things on our temperture kit values such as __light brightness__, __heater power__, and get __output tempertures__.\n",
    "\n",
    "### LED\n",
    "```lab.LED()``` This function will set the light, that is labeled __Hot__, on your tclab turn on at a certain brightness. If you want the light brightest you would use ```lab.LED(100)``` and all the way off ```lab.LED(0)```.\n",
    "\n",
    "### Heaters\n",
    "```lab.Q1()``` or ```lab.Q2()``` will set the power percentage of heater one or two. Same as the the ```LED``` function, ```Q1``` is set highest at ```lab.Q1(100)``` and off at ```lab.Q2(0)```.\n",
    "\n",
    "### Temperture Readers\n",
    "```lab.T1()``` or ```lab.T2()``` gives the current reading of the heater it corresponds to. It will give the values in __Celcius__.\n",
    "\n",
    "### Disconnecting\n",
    "We also use ```lab.close()``` at the end of the program to disconnect the kit to make sure it doesn't keep running the heaters. You don't want your heaters to keep going when you don't want them to. This function does _not_ turn off the LED however."
   ]
  },
  {
   "cell_type": "markdown",
   "metadata": {},
   "source": [
    "### Install Temperature Control Lab\n",
    "This code installs a program that will let you use your Temperature Control Kit."
   ]
  },
  {
   "cell_type": "code",
   "execution_count": 6,
   "metadata": {},
   "outputs": [],
   "source": [
    "# install tclab\n",
    "try:\n",
    "    import tclab\n",
    "except:\n",
    "    !pip install --user pyserial\n",
    "    !pip install --user tclab\n",
    "    import tclab"
   ]
  },
  {
   "cell_type": "markdown",
   "metadata": {},
   "source": [
    "## Activity\n",
    "Use the LED at a percent of (your choice) and then turn it off after (your choice) seconds. "
   ]
  },
  {
   "cell_type": "code",
   "execution_count": null,
   "metadata": {},
   "outputs": [],
   "source": [
    "lab = tclab.TCLab() # Creates object: lab\n",
    "import time \n",
    "\n",
    "lab.LED('Put your percent here') # Light Percentage\n",
    "time.sleep(\"How long you want it to turn on\") # Program Waits\n",
    "lab.LED(0) # Light Turned off\n",
    "\n",
    "lab.close() # Disconnects Kit"
   ]
  },
  {
   "cell_type": "markdown",
   "metadata": {},
   "source": [
    "Use heater one, ```Q1```, at 40 percent and heater two, ```Q2```, at 80 percent. Use ```print()``` to record the tempertures with ```T1``` and ```T2``` after 5 seconds. Make sure to disconnect the heaters after you record the tempertures. Use the LED activity and the discriptions above if you don't remember some of the functions."
   ]
  },
  {
   "cell_type": "code",
   "execution_count": null,
   "metadata": {},
   "outputs": [],
   "source": []
  }
 ],
 "metadata": {
  "kernelspec": {
   "display_name": "Python 3",
   "language": "python",
   "name": "python3"
  },
  "language_info": {
   "codemirror_mode": {
    "name": "ipython",
    "version": 3
   },
   "file_extension": ".py",
   "mimetype": "text/x-python",
   "name": "python",
   "nbconvert_exporter": "python",
   "pygments_lexer": "ipython3",
   "version": "3.7.3"
  }
 },
 "nbformat": 4,
 "nbformat_minor": 2
}
