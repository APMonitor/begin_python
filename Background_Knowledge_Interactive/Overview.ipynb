{
 "cells": [
  {
   "cell_type": "markdown",
   "metadata": {},
   "source": [
    "# Python Knowledge Interactive\n",
    "\n",
    "## ***Introduction:***\n",
    "Every programmer must get some background knowledge before using the language more complexly. So if you want to do well in the second, complex part, you should for sure work through the basic information. For the people who already have experience with python and think this doesn’t apply to you, this background knowledge is different because it uses the temperature control lab to help teach and if you don't do it part two won't be so easy.\n",
    "\n",
    "### ***Some things this background knowledge interactive will go through are:***\n",
    "\n",
    "#### -Debugging\n",
    "#### -Variables\n",
    "#### -Printing\n",
    "#### -Objects\n",
    "#### -Functions\n",
    "#### -Loops\n",
    "\n",
    "It is best to follow the lessons in those steps."
   ]
  }
 ],
 "metadata": {
  "kernelspec": {
   "display_name": "Python 3",
   "language": "python",
   "name": "python3"
  },
  "language_info": {
   "codemirror_mode": {
    "name": "ipython",
    "version": 3
   },
   "file_extension": ".py",
   "mimetype": "text/x-python",
   "name": "python",
   "nbconvert_exporter": "python",
   "pygments_lexer": "ipython3",
   "version": "3.7.3"
  }
 },
 "nbformat": 4,
 "nbformat_minor": 2
}
