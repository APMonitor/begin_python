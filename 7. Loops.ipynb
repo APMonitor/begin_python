{
 "cells": [
  {
   "cell_type": "markdown",
   "metadata": {},
   "source": [
    "# Loops\n",
    "There are two basic types of loops.\n",
    "\n",
    "### While Loops\n",
    "These loops work by repeating until their condition becomes _false_. These loops often get you stuck in an infinite loop if you aren't careful. You can stop the infinite loop by setting the value of true to become false in many ways. In the code below, the infinite loop is broken by making x one less each time it goes through the loop, with ```x = x - 1```. Try changing the value of ```x```."
   ]
  },
  {
   "cell_type": "code",
   "execution_count": 3,
   "metadata": {},
   "outputs": [
    {
     "name": "stdout",
     "output_type": "stream",
     "text": [
      "Are you done yet?\n",
      "Almost Done\n",
      "Almost Done\n",
      "Almost Done\n",
      "Almost Done\n"
     ]
    }
   ],
   "source": [
    "print('Are you done yet?')\n",
    "x = 8 # Try changing this number\n",
    "\n",
    "while x >= 5: # Code stops when x is less than 5\n",
    "    x = x - 1 # Makes x one less each loop \n",
    "    print(\"Almost done\")"
   ]
  },
  {
   "cell_type": "markdown",
   "metadata": {},
   "source": [
    "### For Loops\n",
    "For loops can be very useful but are a little more complicated to understand. They are formatted ```for i in ```\\___```:```. The i is just traditional, you can enter any name you like right there. You can enter a number of things into the blank spot to complete the loop. Make sure to try new things into the loops.\n",
    "\n",
    "#### Range\n",
    "The first thing that can go in for loops is range. It's formatted as ```range()``` and what ever number is in the ```()``` is how many times it will repeat. Try putting in a different number."
   ]
  },
  {
   "cell_type": "code",
   "execution_count": 8,
   "metadata": {},
   "outputs": [
    {
     "name": "stdout",
     "output_type": "stream",
     "text": [
      "This many times\n",
      "This many times\n",
      "This many times\n",
      "This many times\n",
      "This many times\n",
      "This many times\n",
      "This many times\n"
     ]
    }
   ],
   "source": [
    "for i in range(7): # Enter a new number\n",
    "    print(\"This many times\")"
   ]
  },
  {
   "cell_type": "markdown",
   "metadata": {},
   "source": [
    "#### String\n",
    "If you enter a string, like ```\"hello\"``` it will loop however many characters are in the string. "
   ]
  },
  {
   "cell_type": "code",
   "execution_count": 4,
   "metadata": {},
   "outputs": [
    {
     "name": "stdout",
     "output_type": "stream",
     "text": [
      "This many times\n",
      "This many times\n",
      "This many times\n",
      "This many times\n",
      "This many times\n"
     ]
    }
   ],
   "source": [
    "for i in \"hello\":\n",
    "    print('This many times')"
   ]
  },
  {
   "cell_type": "markdown",
   "metadata": {},
   "source": [
    "#### Variable\n",
    "You can also enter a variable into a for loop. All it does is put in the for loop what was in the variable. So using ```for i in range(9):``` is the same as ```x = 9```   ```for i in range(x):```."
   ]
  },
  {
   "cell_type": "code",
   "execution_count": 9,
   "metadata": {},
   "outputs": [
    {
     "name": "stdout",
     "output_type": "stream",
     "text": [
      "This many times\n",
      "This many times\n",
      "This many times\n",
      "This many times\n",
      "This many times\n",
      "This many times\n",
      "This many times\n",
      "This many times\n"
     ]
    }
   ],
   "source": [
    "x = \"not sure\"\n",
    "\n",
    "for i in x:\n",
    "    print(\"This many times\")"
   ]
  },
  {
   "cell_type": "markdown",
   "metadata": {},
   "source": [
    "#### Using ```i```\n",
    "Now here's the twist. In a for loop the ```i``` variable, in ```for i in ```\\___```:```, can be used during the repeated loop. Everytime the for loop goes again, it goes to the next value. For numbers, it starts at 0 so if the loop had a ```range(3)```, it would count 0, 1, 2. Strings it just prints the characters in order so ```\"hi\"``` would just be h, i. This can be used in a number of useful ways you may use later in this course."
   ]
  },
  {
   "cell_type": "code",
   "execution_count": 10,
   "metadata": {},
   "outputs": [
    {
     "name": "stdout",
     "output_type": "stream",
     "text": [
      "c\n",
      "h\n",
      "e\n",
      "e\n",
      "s\n",
      "e\n"
     ]
    }
   ],
   "source": [
    "for i in \"cheese\":\n",
    "    print(i)"
   ]
  },
  {
   "cell_type": "markdown",
   "metadata": {},
   "source": [
    "## Activity\n",
    "Make a while loop that turns on the __Hot__ LED light if the temperture gets above 28 degC, then disconnect after 3 seconds. You don't have to install tclab again, just use ```import tclab```."
   ]
  },
  {
   "cell_type": "code",
   "execution_count": null,
   "metadata": {},
   "outputs": [],
   "source": [
    "import tclab\n",
    "# Code usually goes after imports"
   ]
  },
  {
   "cell_type": "markdown",
   "metadata": {},
   "source": [
    "Make a for loop that makes the LED percent go all the way from 100 to 0 in steps of 1."
   ]
  },
  {
   "cell_type": "code",
   "execution_count": null,
   "metadata": {},
   "outputs": [],
   "source": []
  }
 ],
 "metadata": {
  "kernelspec": {
   "display_name": "Python 3",
   "language": "python",
   "name": "python3"
  },
  "language_info": {
   "codemirror_mode": {
    "name": "ipython",
    "version": 3
   },
   "file_extension": ".py",
   "mimetype": "text/x-python",
   "name": "python",
   "nbconvert_exporter": "python",
   "pygments_lexer": "ipython3",
   "version": "3.7.3"
  }
 },
 "nbformat": 4,
 "nbformat_minor": 2
}
