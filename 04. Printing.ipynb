{
 "cells": [
  {
   "cell_type": "markdown",
   "metadata": {},
   "source": [
    "## 4. Printing\n",
    "\n",
    "![exercise](https://apmonitor.com/che263/uploads/Begin_Python/exercise.png)\n",
    "\n",
    "Printing is displaying values to the screen. The word `print` comes from the time when programs previously put ink on paper. You use the built in python __function__ ```print()``` to output values.\n",
    "\n",
    "[![Print](https://apmonitor.com/che263/uploads/Begin_Python/BeginPython04.png)](https://www.youtube.com/watch?v=CCPNIocw0_Y&list=PLLBUgWXdTBDi3J05aMVG1knUpqRhkbc46 \"Print\")\n",
    "\n",
    "You could use this to tell you what the current temperature of the egg is and when to display it. Get more practice by putting something different in the function and running the program."
   ]
  },
  {
   "cell_type": "code",
   "execution_count": null,
   "metadata": {},
   "outputs": [],
   "source": [
    "print(\"Chicken Hatches: 'Hello World!'\") # Put something in between the \"\" symbols"
   ]
  },
  {
   "cell_type": "markdown",
   "metadata": {},
   "source": [
    "You can also print functions, this function is one that will tell the information type that is stored in a variable. So it will print out ```<class 'int'>``` or str, bool, float, whatever the information in the variable is."
   ]
  },
  {
   "cell_type": "code",
   "execution_count": null,
   "metadata": {},
   "outputs": [],
   "source": [
    "eggs = 200 # integer variable\n",
    "print(type(eggs))\n",
    "\n",
    "egg_type = \"Platypus\" # string variable\n",
    "print(type(egg_type))\n",
    "\n",
    "yes = True # Boolean variable\n",
    "print(type(yes))"
   ]
  },
  {
   "cell_type": "markdown",
   "metadata": {},
   "source": [
    "Now using information from the previous lesson, combine different value types by printing a ```number``` and a ```string``` together. This is similar but instead of putting them in a variable, you are printing them to the screen. You'll have to change the value type for it to work like in the previous activity. Go back a lesson if you get stuck."
   ]
  },
  {
   "cell_type": "code",
   "execution_count": null,
   "metadata": {},
   "outputs": [],
   "source": [
    "print( + ) # Print a string and number together, correctly"
   ]
  },
  {
   "cell_type": "markdown",
   "metadata": {},
   "source": [
    "You can even use two __variables__ in a ```print``` function by doing something like this ```print(var1 + var2)```. If you want more practice put different strings into the __variables__."
   ]
  },
  {
   "cell_type": "code",
   "execution_count": null,
   "metadata": {},
   "outputs": [],
   "source": [
    "var1 = 'Put something here'\n",
    "var2 = \" and put something here.\"\n",
    "print(var1 + var2) # Prints both"
   ]
  },
  {
   "cell_type": "markdown",
   "metadata": {},
   "source": [
    "You can also use commas to seperate things when ```printing```. They will automatically put a **space** between the values, and it doesn't matter if they are *numbers, strings, or both*."
   ]
  },
  {
   "cell_type": "code",
   "execution_count": null,
   "metadata": {},
   "outputs": [],
   "source": [
    "var1 = \"You are cooking the egg at\"\n",
    "var2 = 45\n",
    "print(var1, var2, \"°C, cool down!\")"
   ]
  },
  {
   "cell_type": "markdown",
   "metadata": {},
   "source": [
    "### Printing Equations\n",
    "\n",
    "![idea](https://apmonitor.com/che263/uploads/Begin_Python/idea.png)\n",
    "\n",
    "Jupyter Notebook automatically prints the last expression in a cell. One disadvatage of this feature is it only gives the result for the last line in the code. This method is mostly useful when you need to do a quick one line calculation. Run the code below and put in different equations to check your understanding."
   ]
  },
  {
   "cell_type": "code",
   "execution_count": null,
   "metadata": {
    "scrolled": true
   },
   "outputs": [],
   "source": [
    "5*2"
   ]
  },
  {
   "cell_type": "markdown",
   "metadata": {},
   "source": [
    "The typical way in other Python modules is to simply put it in a ```print()``` function and you can get output for all lines."
   ]
  },
  {
   "cell_type": "code",
   "execution_count": null,
   "metadata": {},
   "outputs": [],
   "source": [
    "print(14/2)\n",
    "print(7*2)\n",
    "print(3+11)"
   ]
  },
  {
   "cell_type": "markdown",
   "metadata": {},
   "source": [
    "### Activity \n",
    "\n",
    "![expert](https://apmonitor.com/che263/uploads/Begin_Python/expert.png)\n",
    "\n",
    "Make two __variables__ that will add two numbers when you print them together. This is kind of like the example above, but use numbers in your variables. "
   ]
  },
  {
   "cell_type": "code",
   "execution_count": null,
   "metadata": {},
   "outputs": [],
   "source": [
    "        # First number variable\n",
    "        # Second number variable\n",
    "print() # Print together"
   ]
  },
  {
   "cell_type": "markdown",
   "metadata": {},
   "source": [
    "In lesson 3 it mentions variable properties. This was saying if you assign the same variable twice, it simply changes values.\n",
    "\n",
    "```python\n",
    "test = 3\n",
    "test = \"egg\"```\n",
    "\n",
    "Do the same here, except now print the variable in between variable assignments so you can see how it works."
   ]
  },
  {
   "cell_type": "code",
   "execution_count": null,
   "metadata": {},
   "outputs": [],
   "source": [
    "test = 3\n",
    "        # print here\n",
    "test = \"egg\"\n",
    "        # print here"
   ]
  },
  {
   "cell_type": "markdown",
   "metadata": {},
   "source": [
    "Use the variable with an equation to ```print``` 500. You need to make the ```print()``` have an equation in order to change the output value."
   ]
  },
  {
   "cell_type": "code",
   "execution_count": null,
   "metadata": {},
   "outputs": [],
   "source": [
    "equation = 25*4\n",
    "print(equation    ) # Make an equation to equal 500"
   ]
  }
 ],
 "metadata": {
  "kernelspec": {
   "display_name": "Python 3",
   "language": "python",
   "name": "python3"
  },
  "language_info": {
   "codemirror_mode": {
    "name": "ipython",
    "version": 3
   },
   "file_extension": ".py",
   "mimetype": "text/x-python",
   "name": "python",
   "nbconvert_exporter": "python",
   "pygments_lexer": "ipython3",
   "version": "3.7.5"
  }
 },
 "nbformat": 4,
 "nbformat_minor": 2
}
