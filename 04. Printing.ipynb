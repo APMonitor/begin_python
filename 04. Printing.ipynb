{
 "cells": [
  {
   "cell_type": "markdown",
   "metadata": {},
   "source": [
    "# Printing\n",
    "\n",
    "Printing isn't what it means to most people who don't program. It's outputting values, not putting ink on paper. You use the built in python __function__ ```print()``` to output values. You could use this to tell you what the current temperature of the egg was, and when to display it. Get more practice by putting something different in the function and running the program."
   ]
  },
  {
   "cell_type": "code",
   "execution_count": null,
   "metadata": {},
   "outputs": [],
   "source": [
    "print(\"Hello World\") # Put something in between the \"\" symbols"
   ]
  },
  {
   "cell_type": "markdown",
   "metadata": {},
   "source": [
    "You can also print functions, this function is one that will tell the information type that is stored in a variable. So it will print out ```<class 'int'>``` or str, bool, float, whatever the information in the variable is."
   ]
  },
  {
   "cell_type": "code",
   "execution_count": null,
   "metadata": {},
   "outputs": [],
   "source": [
    "wheels = 200 # interger variable\n",
    "print(type(wheels))\n",
    "\n",
    "random = \"Me too!\" # string variable\n",
    "print(type(random))\n",
    "\n",
    "yes = True # Boolean variable\n",
    "print(type(yes))"
   ]
  },
  {
   "cell_type": "markdown",
   "metadata": {},
   "source": [
    "Now using from the previous lesson combining different value types, print a ```number``` and a ```string``` together. This is similar but instead of putting them in a variable, you're printing them out. You'll have to change the value type for it to work like in the previous activity. Go back a lesson if you get stuck."
   ]
  },
  {
   "cell_type": "code",
   "execution_count": null,
   "metadata": {},
   "outputs": [],
   "source": [
    "print( + ) # Print a string and number together, correctly"
   ]
  },
  {
   "cell_type": "markdown",
   "metadata": {},
   "source": [
    "You can even use two __variables__ in a ```print``` function by doing something like this ```print(var1 + var2)```. If you want more practice put different strings into the __variables__."
   ]
  },
  {
   "cell_type": "code",
   "execution_count": null,
   "metadata": {},
   "outputs": [],
   "source": [
    "var1 = 'Put something here'\n",
    "var2 = \" and put something here.\"\n",
    "print(var1 + var2) # Prints both"
   ]
  },
  {
   "cell_type": "markdown",
   "metadata": {},
   "source": [
    "You can also use commas to seperate things when ```printing```. They will automatically put a **space** between the values, and it doesn't matter if they are *numbers, strings, or both*."
   ]
  },
  {
   "cell_type": "code",
   "execution_count": null,
   "metadata": {},
   "outputs": [],
   "source": [
    "var1 = \"This is crazy\"\n",
    "var2 = 45\n",
    "print(var1, var2, \"wow\")"
   ]
  },
  {
   "cell_type": "markdown",
   "metadata": {},
   "source": [
    "## Printing Equations\n",
    "You can also run math equations and Jupyter Notebook will automatically output them. This isn't true for anything that will run python, but it works with Jupyter. One disadvatage about this method is it only gives the result for the last line in the code. So this method is mostly useful when you need to do a quick one lined calculation. \n",
    "\n",
    "Run the code below and put in different equations to check your understanding."
   ]
  },
  {
   "cell_type": "code",
   "execution_count": null,
   "metadata": {
    "scrolled": true
   },
   "outputs": [],
   "source": [
    "5*2"
   ]
  },
  {
   "cell_type": "markdown",
   "metadata": {},
   "source": [
    "The typical way in other python modules is to simply put it in a ```print()``` function and you can get output for all lines."
   ]
  },
  {
   "cell_type": "code",
   "execution_count": null,
   "metadata": {},
   "outputs": [],
   "source": [
    "print(14/2)\n",
    "print(7*2)\n",
    "print(3+11)"
   ]
  },
  {
   "cell_type": "markdown",
   "metadata": {},
   "source": [
    "## Activity \n",
    "Make two __variables__ that will add two numbers when you print them together. This is kind of like the example above, but use numbers in your variables. "
   ]
  },
  {
   "cell_type": "code",
   "execution_count": null,
   "metadata": {},
   "outputs": [],
   "source": [
    "        # First number variable\n",
    "        # Second number variable\n",
    "print() # Print together"
   ]
  },
  {
   "cell_type": "markdown",
   "metadata": {},
   "source": [
    "In lesson 3 it mentions variable properties. This was saying if you assign the same variable twice, it simply changes values.\n",
    "\n",
    "```python\n",
    "test = 3\n",
    "test = \"cheese\"```\n",
    "\n",
    "Do the same here, except now print the variable in between variable assignments so you can see how it works."
   ]
  },
  {
   "cell_type": "code",
   "execution_count": null,
   "metadata": {},
   "outputs": [],
   "source": [
    "test = 3\n",
    "        # print here\n",
    "test = \"cheese\"\n",
    "        # print here"
   ]
  },
  {
   "cell_type": "markdown",
   "metadata": {},
   "source": [
    "Use the variable with an equation in it to ```print``` 500. You need to make the ```print()``` have an equation in order to change the output value."
   ]
  },
  {
   "cell_type": "code",
   "execution_count": null,
   "metadata": {},
   "outputs": [],
   "source": [
    "equation = 25*4\n",
    "print(equation    ) # Make an equation to equal 500"
   ]
  }
 ],
 "metadata": {
  "kernelspec": {
   "display_name": "Python 3",
   "language": "python",
   "name": "python3"
  },
  "language_info": {
   "codemirror_mode": {
    "name": "ipython",
    "version": 3
   },
   "file_extension": ".py",
   "mimetype": "text/x-python",
   "name": "python",
   "nbconvert_exporter": "python",
   "pygments_lexer": "ipython3",
   "version": "3.7.3"
  }
 },
 "nbformat": 4,
 "nbformat_minor": 2
}
